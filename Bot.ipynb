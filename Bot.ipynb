{
 "cells": [
  {
   "cell_type": "code",
   "execution_count": 6,
   "metadata": {},
   "outputs": [],
   "source": [
    "from binance import Client\n",
    "import pandas as pd\n",
    "import getpass\n",
    "import matplotlib\n",
    "import pandas_bokeh\n",
    "import plotly.graph_objects as go"
   ]
  },
  {
   "cell_type": "code",
   "execution_count": 20,
   "metadata": {},
   "outputs": [],
   "source": [
    "%store -r api_key api_secret\n",
    "#use .env file for credentials"
   ]
  },
  {
   "cell_type": "code",
   "execution_count": 19,
   "metadata": {},
   "outputs": [],
   "source": [
    "api_key = getpass.getpass()\n",
    "api_secret = getpass.getpass()"
   ]
  },
  {
   "cell_type": "markdown",
   "metadata": {},
   "source": [
    "hide\n"
   ]
  },
  {
   "cell_type": "code",
   "execution_count": 21,
   "metadata": {},
   "outputs": [],
   "source": [
    "client = Client(api_key, api_secret)\n"
   ]
  },
  {
   "cell_type": "code",
   "execution_count": 22,
   "metadata": {},
   "outputs": [
    {
     "ename": "BinanceAPIException",
     "evalue": "APIError(code=-2015): Invalid API-key, IP, or permissions for action.",
     "output_type": "error",
     "traceback": [
      "\u001b[0;31m---------------------------------------------------------------------------\u001b[0m",
      "\u001b[0;31mBinanceAPIException\u001b[0m                       Traceback (most recent call last)",
      "\u001b[0;32m<ipython-input-22-f6b5122dbac5>\u001b[0m in \u001b[0;36m<module>\u001b[0;34m\u001b[0m\n\u001b[0;32m----> 1\u001b[0;31m \u001b[0mclient\u001b[0m\u001b[0;34m.\u001b[0m\u001b[0mget_account\u001b[0m\u001b[0;34m(\u001b[0m\u001b[0;34m)\u001b[0m\u001b[0;34m\u001b[0m\u001b[0;34m\u001b[0m\u001b[0m\n\u001b[0m",
      "\u001b[0;32m/usr/local/lib/python3.9/site-packages/binance/client.py\u001b[0m in \u001b[0;36mget_account\u001b[0;34m(self, **params)\u001b[0m\n\u001b[1;32m   1954\u001b[0m \u001b[0;34m\u001b[0m\u001b[0m\n\u001b[1;32m   1955\u001b[0m         \"\"\"\n\u001b[0;32m-> 1956\u001b[0;31m         \u001b[0;32mreturn\u001b[0m \u001b[0mself\u001b[0m\u001b[0;34m.\u001b[0m\u001b[0m_get\u001b[0m\u001b[0;34m(\u001b[0m\u001b[0;34m'account'\u001b[0m\u001b[0;34m,\u001b[0m \u001b[0;32mTrue\u001b[0m\u001b[0;34m,\u001b[0m \u001b[0mdata\u001b[0m\u001b[0;34m=\u001b[0m\u001b[0mparams\u001b[0m\u001b[0;34m)\u001b[0m\u001b[0;34m\u001b[0m\u001b[0;34m\u001b[0m\u001b[0m\n\u001b[0m\u001b[1;32m   1957\u001b[0m \u001b[0;34m\u001b[0m\u001b[0m\n\u001b[1;32m   1958\u001b[0m     \u001b[0;32mdef\u001b[0m \u001b[0mget_asset_balance\u001b[0m\u001b[0;34m(\u001b[0m\u001b[0mself\u001b[0m\u001b[0;34m,\u001b[0m \u001b[0masset\u001b[0m\u001b[0;34m,\u001b[0m \u001b[0;34m**\u001b[0m\u001b[0mparams\u001b[0m\u001b[0;34m)\u001b[0m\u001b[0;34m:\u001b[0m\u001b[0;34m\u001b[0m\u001b[0;34m\u001b[0m\u001b[0m\n",
      "\u001b[0;32m/usr/local/lib/python3.9/site-packages/binance/client.py\u001b[0m in \u001b[0;36m_get\u001b[0;34m(self, path, signed, version, **kwargs)\u001b[0m\n\u001b[1;32m    369\u001b[0m \u001b[0;34m\u001b[0m\u001b[0m\n\u001b[1;32m    370\u001b[0m     \u001b[0;32mdef\u001b[0m \u001b[0m_get\u001b[0m\u001b[0;34m(\u001b[0m\u001b[0mself\u001b[0m\u001b[0;34m,\u001b[0m \u001b[0mpath\u001b[0m\u001b[0;34m,\u001b[0m \u001b[0msigned\u001b[0m\u001b[0;34m=\u001b[0m\u001b[0;32mFalse\u001b[0m\u001b[0;34m,\u001b[0m \u001b[0mversion\u001b[0m\u001b[0;34m=\u001b[0m\u001b[0mBaseClient\u001b[0m\u001b[0;34m.\u001b[0m\u001b[0mPUBLIC_API_VERSION\u001b[0m\u001b[0;34m,\u001b[0m \u001b[0;34m**\u001b[0m\u001b[0mkwargs\u001b[0m\u001b[0;34m)\u001b[0m\u001b[0;34m:\u001b[0m\u001b[0;34m\u001b[0m\u001b[0;34m\u001b[0m\u001b[0m\n\u001b[0;32m--> 371\u001b[0;31m         \u001b[0;32mreturn\u001b[0m \u001b[0mself\u001b[0m\u001b[0;34m.\u001b[0m\u001b[0m_request_api\u001b[0m\u001b[0;34m(\u001b[0m\u001b[0;34m'get'\u001b[0m\u001b[0;34m,\u001b[0m \u001b[0mpath\u001b[0m\u001b[0;34m,\u001b[0m \u001b[0msigned\u001b[0m\u001b[0;34m,\u001b[0m \u001b[0mversion\u001b[0m\u001b[0;34m,\u001b[0m \u001b[0;34m**\u001b[0m\u001b[0mkwargs\u001b[0m\u001b[0;34m)\u001b[0m\u001b[0;34m\u001b[0m\u001b[0;34m\u001b[0m\u001b[0m\n\u001b[0m\u001b[1;32m    372\u001b[0m \u001b[0;34m\u001b[0m\u001b[0m\n\u001b[1;32m    373\u001b[0m     \u001b[0;32mdef\u001b[0m \u001b[0m_post\u001b[0m\u001b[0;34m(\u001b[0m\u001b[0mself\u001b[0m\u001b[0;34m,\u001b[0m \u001b[0mpath\u001b[0m\u001b[0;34m,\u001b[0m \u001b[0msigned\u001b[0m\u001b[0;34m=\u001b[0m\u001b[0;32mFalse\u001b[0m\u001b[0;34m,\u001b[0m \u001b[0mversion\u001b[0m\u001b[0;34m=\u001b[0m\u001b[0mBaseClient\u001b[0m\u001b[0;34m.\u001b[0m\u001b[0mPUBLIC_API_VERSION\u001b[0m\u001b[0;34m,\u001b[0m \u001b[0;34m**\u001b[0m\u001b[0mkwargs\u001b[0m\u001b[0;34m)\u001b[0m \u001b[0;34m->\u001b[0m \u001b[0mDict\u001b[0m\u001b[0;34m:\u001b[0m\u001b[0;34m\u001b[0m\u001b[0;34m\u001b[0m\u001b[0m\n",
      "\u001b[0;32m/usr/local/lib/python3.9/site-packages/binance/client.py\u001b[0m in \u001b[0;36m_request_api\u001b[0;34m(self, method, path, signed, version, **kwargs)\u001b[0m\n\u001b[1;32m    332\u001b[0m     ):\n\u001b[1;32m    333\u001b[0m         \u001b[0muri\u001b[0m \u001b[0;34m=\u001b[0m \u001b[0mself\u001b[0m\u001b[0;34m.\u001b[0m\u001b[0m_create_api_uri\u001b[0m\u001b[0;34m(\u001b[0m\u001b[0mpath\u001b[0m\u001b[0;34m,\u001b[0m \u001b[0msigned\u001b[0m\u001b[0;34m,\u001b[0m \u001b[0mversion\u001b[0m\u001b[0;34m)\u001b[0m\u001b[0;34m\u001b[0m\u001b[0;34m\u001b[0m\u001b[0m\n\u001b[0;32m--> 334\u001b[0;31m         \u001b[0;32mreturn\u001b[0m \u001b[0mself\u001b[0m\u001b[0;34m.\u001b[0m\u001b[0m_request\u001b[0m\u001b[0;34m(\u001b[0m\u001b[0mmethod\u001b[0m\u001b[0;34m,\u001b[0m \u001b[0muri\u001b[0m\u001b[0;34m,\u001b[0m \u001b[0msigned\u001b[0m\u001b[0;34m,\u001b[0m \u001b[0;34m**\u001b[0m\u001b[0mkwargs\u001b[0m\u001b[0;34m)\u001b[0m\u001b[0;34m\u001b[0m\u001b[0;34m\u001b[0m\u001b[0m\n\u001b[0m\u001b[1;32m    335\u001b[0m \u001b[0;34m\u001b[0m\u001b[0m\n\u001b[1;32m    336\u001b[0m     \u001b[0;32mdef\u001b[0m \u001b[0m_request_futures_api\u001b[0m\u001b[0;34m(\u001b[0m\u001b[0mself\u001b[0m\u001b[0;34m,\u001b[0m \u001b[0mmethod\u001b[0m\u001b[0;34m,\u001b[0m \u001b[0mpath\u001b[0m\u001b[0;34m,\u001b[0m \u001b[0msigned\u001b[0m\u001b[0;34m=\u001b[0m\u001b[0;32mFalse\u001b[0m\u001b[0;34m,\u001b[0m \u001b[0;34m**\u001b[0m\u001b[0mkwargs\u001b[0m\u001b[0;34m)\u001b[0m \u001b[0;34m->\u001b[0m \u001b[0mDict\u001b[0m\u001b[0;34m:\u001b[0m\u001b[0;34m\u001b[0m\u001b[0;34m\u001b[0m\u001b[0m\n",
      "\u001b[0;32m/usr/local/lib/python3.9/site-packages/binance/client.py\u001b[0m in \u001b[0;36m_request\u001b[0;34m(self, method, uri, signed, force_params, **kwargs)\u001b[0m\n\u001b[1;32m    313\u001b[0m \u001b[0;34m\u001b[0m\u001b[0m\n\u001b[1;32m    314\u001b[0m         \u001b[0mself\u001b[0m\u001b[0;34m.\u001b[0m\u001b[0mresponse\u001b[0m \u001b[0;34m=\u001b[0m \u001b[0mgetattr\u001b[0m\u001b[0;34m(\u001b[0m\u001b[0mself\u001b[0m\u001b[0;34m.\u001b[0m\u001b[0msession\u001b[0m\u001b[0;34m,\u001b[0m \u001b[0mmethod\u001b[0m\u001b[0;34m)\u001b[0m\u001b[0;34m(\u001b[0m\u001b[0muri\u001b[0m\u001b[0;34m,\u001b[0m \u001b[0;34m**\u001b[0m\u001b[0mkwargs\u001b[0m\u001b[0;34m)\u001b[0m\u001b[0;34m\u001b[0m\u001b[0;34m\u001b[0m\u001b[0m\n\u001b[0;32m--> 315\u001b[0;31m         \u001b[0;32mreturn\u001b[0m \u001b[0mself\u001b[0m\u001b[0;34m.\u001b[0m\u001b[0m_handle_response\u001b[0m\u001b[0;34m(\u001b[0m\u001b[0mself\u001b[0m\u001b[0;34m.\u001b[0m\u001b[0mresponse\u001b[0m\u001b[0;34m)\u001b[0m\u001b[0;34m\u001b[0m\u001b[0;34m\u001b[0m\u001b[0m\n\u001b[0m\u001b[1;32m    316\u001b[0m \u001b[0;34m\u001b[0m\u001b[0m\n\u001b[1;32m    317\u001b[0m     \u001b[0;34m@\u001b[0m\u001b[0mstaticmethod\u001b[0m\u001b[0;34m\u001b[0m\u001b[0;34m\u001b[0m\u001b[0m\n",
      "\u001b[0;32m/usr/local/lib/python3.9/site-packages/binance/client.py\u001b[0m in \u001b[0;36m_handle_response\u001b[0;34m(response)\u001b[0m\n\u001b[1;32m    322\u001b[0m         \"\"\"\n\u001b[1;32m    323\u001b[0m         \u001b[0;32mif\u001b[0m \u001b[0;32mnot\u001b[0m \u001b[0;34m(\u001b[0m\u001b[0;36m200\u001b[0m \u001b[0;34m<=\u001b[0m \u001b[0mresponse\u001b[0m\u001b[0;34m.\u001b[0m\u001b[0mstatus_code\u001b[0m \u001b[0;34m<\u001b[0m \u001b[0;36m300\u001b[0m\u001b[0;34m)\u001b[0m\u001b[0;34m:\u001b[0m\u001b[0;34m\u001b[0m\u001b[0;34m\u001b[0m\u001b[0m\n\u001b[0;32m--> 324\u001b[0;31m             \u001b[0;32mraise\u001b[0m \u001b[0mBinanceAPIException\u001b[0m\u001b[0;34m(\u001b[0m\u001b[0mresponse\u001b[0m\u001b[0;34m,\u001b[0m \u001b[0mresponse\u001b[0m\u001b[0;34m.\u001b[0m\u001b[0mstatus_code\u001b[0m\u001b[0;34m,\u001b[0m \u001b[0mresponse\u001b[0m\u001b[0;34m.\u001b[0m\u001b[0mtext\u001b[0m\u001b[0;34m)\u001b[0m\u001b[0;34m\u001b[0m\u001b[0;34m\u001b[0m\u001b[0m\n\u001b[0m\u001b[1;32m    325\u001b[0m         \u001b[0;32mtry\u001b[0m\u001b[0;34m:\u001b[0m\u001b[0;34m\u001b[0m\u001b[0;34m\u001b[0m\u001b[0m\n\u001b[1;32m    326\u001b[0m             \u001b[0;32mreturn\u001b[0m \u001b[0mresponse\u001b[0m\u001b[0;34m.\u001b[0m\u001b[0mjson\u001b[0m\u001b[0;34m(\u001b[0m\u001b[0;34m)\u001b[0m\u001b[0;34m\u001b[0m\u001b[0;34m\u001b[0m\u001b[0m\n",
      "\u001b[0;31mBinanceAPIException\u001b[0m: APIError(code=-2015): Invalid API-key, IP, or permissions for action."
     ]
    }
   ],
   "source": [
    "client.get_account()"
   ]
  },
  {
   "cell_type": "code",
   "execution_count": 11,
   "metadata": {},
   "outputs": [],
   "source": [
    "def get_historical_data(symbol, interval, lookback):\n",
    "    frame = pd.DataFrame(client.get_historical_klines(symbol, interval, lookback+'min ago UTC+5:30'))\n",
    "    no_of_trades = frame.iloc[:, 9]\n",
    "    volume = frame.iloc[:, 5:6]\n",
    "    frame = frame.iloc[:, :5]\n",
    "    frame.columns = ['Time', 'Open', 'High', 'Low', 'Close']\n",
    "    #frame['No of trades'] = no_of_trades\n",
    "    frame = frame.set_index('Time')\n",
    "    frame.index = pd.to_datetime(frame.index, unit='ms')\n",
    "    volume.index = pd.to_datetime(frame.index, unit='ms')\n",
    "    volume.columns = ['Volume']\n",
    "    frame = frame.astype(float)\n",
    "    volume = volume.astype(float)\n",
    "    return frame, volume"
   ]
  },
  {
   "cell_type": "code",
   "execution_count": 12,
   "metadata": {},
   "outputs": [
    {
     "data": {
      "text/html": [
       "<div>\n",
       "<style scoped>\n",
       "    .dataframe tbody tr th:only-of-type {\n",
       "        vertical-align: middle;\n",
       "    }\n",
       "\n",
       "    .dataframe tbody tr th {\n",
       "        vertical-align: top;\n",
       "    }\n",
       "\n",
       "    .dataframe thead th {\n",
       "        text-align: right;\n",
       "    }\n",
       "</style>\n",
       "<table border=\"1\" class=\"dataframe\">\n",
       "  <thead>\n",
       "    <tr style=\"text-align: right;\">\n",
       "      <th></th>\n",
       "      <th>Open</th>\n",
       "      <th>High</th>\n",
       "      <th>Low</th>\n",
       "      <th>Close</th>\n",
       "    </tr>\n",
       "    <tr>\n",
       "      <th>Time</th>\n",
       "      <th></th>\n",
       "      <th></th>\n",
       "      <th></th>\n",
       "      <th></th>\n",
       "    </tr>\n",
       "  </thead>\n",
       "  <tbody>\n",
       "    <tr>\n",
       "      <th>2021-11-24 08:08:00</th>\n",
       "      <td>0.000039</td>\n",
       "      <td>0.000039</td>\n",
       "      <td>0.000039</td>\n",
       "      <td>0.000039</td>\n",
       "    </tr>\n",
       "    <tr>\n",
       "      <th>2021-11-24 08:09:00</th>\n",
       "      <td>0.000039</td>\n",
       "      <td>0.000039</td>\n",
       "      <td>0.000039</td>\n",
       "      <td>0.000039</td>\n",
       "    </tr>\n",
       "    <tr>\n",
       "      <th>2021-11-24 08:10:00</th>\n",
       "      <td>0.000039</td>\n",
       "      <td>0.000039</td>\n",
       "      <td>0.000039</td>\n",
       "      <td>0.000039</td>\n",
       "    </tr>\n",
       "    <tr>\n",
       "      <th>2021-11-24 08:11:00</th>\n",
       "      <td>0.000039</td>\n",
       "      <td>0.000039</td>\n",
       "      <td>0.000039</td>\n",
       "      <td>0.000039</td>\n",
       "    </tr>\n",
       "    <tr>\n",
       "      <th>2021-11-24 08:12:00</th>\n",
       "      <td>0.000039</td>\n",
       "      <td>0.000039</td>\n",
       "      <td>0.000039</td>\n",
       "      <td>0.000039</td>\n",
       "    </tr>\n",
       "    <tr>\n",
       "      <th>2021-11-24 08:13:00</th>\n",
       "      <td>0.000039</td>\n",
       "      <td>0.000039</td>\n",
       "      <td>0.000039</td>\n",
       "      <td>0.000039</td>\n",
       "    </tr>\n",
       "    <tr>\n",
       "      <th>2021-11-24 08:14:00</th>\n",
       "      <td>0.000039</td>\n",
       "      <td>0.000039</td>\n",
       "      <td>0.000039</td>\n",
       "      <td>0.000039</td>\n",
       "    </tr>\n",
       "    <tr>\n",
       "      <th>2021-11-24 08:15:00</th>\n",
       "      <td>0.000039</td>\n",
       "      <td>0.000039</td>\n",
       "      <td>0.000039</td>\n",
       "      <td>0.000039</td>\n",
       "    </tr>\n",
       "    <tr>\n",
       "      <th>2021-11-24 08:16:00</th>\n",
       "      <td>0.000039</td>\n",
       "      <td>0.000039</td>\n",
       "      <td>0.000039</td>\n",
       "      <td>0.000039</td>\n",
       "    </tr>\n",
       "    <tr>\n",
       "      <th>2021-11-24 08:17:00</th>\n",
       "      <td>0.000039</td>\n",
       "      <td>0.000039</td>\n",
       "      <td>0.000039</td>\n",
       "      <td>0.000039</td>\n",
       "    </tr>\n",
       "    <tr>\n",
       "      <th>2021-11-24 08:18:00</th>\n",
       "      <td>0.000039</td>\n",
       "      <td>0.000039</td>\n",
       "      <td>0.000039</td>\n",
       "      <td>0.000039</td>\n",
       "    </tr>\n",
       "    <tr>\n",
       "      <th>2021-11-24 08:19:00</th>\n",
       "      <td>0.000039</td>\n",
       "      <td>0.000039</td>\n",
       "      <td>0.000039</td>\n",
       "      <td>0.000039</td>\n",
       "    </tr>\n",
       "    <tr>\n",
       "      <th>2021-11-24 08:20:00</th>\n",
       "      <td>0.000039</td>\n",
       "      <td>0.000039</td>\n",
       "      <td>0.000039</td>\n",
       "      <td>0.000039</td>\n",
       "    </tr>\n",
       "    <tr>\n",
       "      <th>2021-11-24 08:21:00</th>\n",
       "      <td>0.000039</td>\n",
       "      <td>0.000039</td>\n",
       "      <td>0.000039</td>\n",
       "      <td>0.000039</td>\n",
       "    </tr>\n",
       "    <tr>\n",
       "      <th>2021-11-24 08:22:00</th>\n",
       "      <td>0.000039</td>\n",
       "      <td>0.000039</td>\n",
       "      <td>0.000039</td>\n",
       "      <td>0.000039</td>\n",
       "    </tr>\n",
       "    <tr>\n",
       "      <th>2021-11-24 08:23:00</th>\n",
       "      <td>0.000039</td>\n",
       "      <td>0.000039</td>\n",
       "      <td>0.000039</td>\n",
       "      <td>0.000039</td>\n",
       "    </tr>\n",
       "    <tr>\n",
       "      <th>2021-11-24 08:24:00</th>\n",
       "      <td>0.000039</td>\n",
       "      <td>0.000039</td>\n",
       "      <td>0.000039</td>\n",
       "      <td>0.000039</td>\n",
       "    </tr>\n",
       "    <tr>\n",
       "      <th>2021-11-24 08:25:00</th>\n",
       "      <td>0.000039</td>\n",
       "      <td>0.000039</td>\n",
       "      <td>0.000039</td>\n",
       "      <td>0.000039</td>\n",
       "    </tr>\n",
       "    <tr>\n",
       "      <th>2021-11-24 08:26:00</th>\n",
       "      <td>0.000039</td>\n",
       "      <td>0.000039</td>\n",
       "      <td>0.000039</td>\n",
       "      <td>0.000039</td>\n",
       "    </tr>\n",
       "    <tr>\n",
       "      <th>2021-11-24 08:27:00</th>\n",
       "      <td>0.000039</td>\n",
       "      <td>0.000039</td>\n",
       "      <td>0.000039</td>\n",
       "      <td>0.000039</td>\n",
       "    </tr>\n",
       "    <tr>\n",
       "      <th>2021-11-24 08:28:00</th>\n",
       "      <td>0.000039</td>\n",
       "      <td>0.000039</td>\n",
       "      <td>0.000039</td>\n",
       "      <td>0.000039</td>\n",
       "    </tr>\n",
       "    <tr>\n",
       "      <th>2021-11-24 08:29:00</th>\n",
       "      <td>0.000039</td>\n",
       "      <td>0.000039</td>\n",
       "      <td>0.000039</td>\n",
       "      <td>0.000039</td>\n",
       "    </tr>\n",
       "    <tr>\n",
       "      <th>2021-11-24 08:30:00</th>\n",
       "      <td>0.000039</td>\n",
       "      <td>0.000039</td>\n",
       "      <td>0.000039</td>\n",
       "      <td>0.000039</td>\n",
       "    </tr>\n",
       "    <tr>\n",
       "      <th>2021-11-24 08:31:00</th>\n",
       "      <td>0.000039</td>\n",
       "      <td>0.000039</td>\n",
       "      <td>0.000039</td>\n",
       "      <td>0.000039</td>\n",
       "    </tr>\n",
       "    <tr>\n",
       "      <th>2021-11-24 08:32:00</th>\n",
       "      <td>0.000039</td>\n",
       "      <td>0.000039</td>\n",
       "      <td>0.000039</td>\n",
       "      <td>0.000039</td>\n",
       "    </tr>\n",
       "    <tr>\n",
       "      <th>2021-11-24 08:33:00</th>\n",
       "      <td>0.000039</td>\n",
       "      <td>0.000040</td>\n",
       "      <td>0.000039</td>\n",
       "      <td>0.000040</td>\n",
       "    </tr>\n",
       "    <tr>\n",
       "      <th>2021-11-24 08:34:00</th>\n",
       "      <td>0.000040</td>\n",
       "      <td>0.000040</td>\n",
       "      <td>0.000040</td>\n",
       "      <td>0.000040</td>\n",
       "    </tr>\n",
       "    <tr>\n",
       "      <th>2021-11-24 08:35:00</th>\n",
       "      <td>0.000040</td>\n",
       "      <td>0.000040</td>\n",
       "      <td>0.000040</td>\n",
       "      <td>0.000040</td>\n",
       "    </tr>\n",
       "    <tr>\n",
       "      <th>2021-11-24 08:36:00</th>\n",
       "      <td>0.000040</td>\n",
       "      <td>0.000040</td>\n",
       "      <td>0.000039</td>\n",
       "      <td>0.000040</td>\n",
       "    </tr>\n",
       "    <tr>\n",
       "      <th>2021-11-24 08:37:00</th>\n",
       "      <td>0.000040</td>\n",
       "      <td>0.000040</td>\n",
       "      <td>0.000039</td>\n",
       "      <td>0.000039</td>\n",
       "    </tr>\n",
       "    <tr>\n",
       "      <th>2021-11-24 08:38:00</th>\n",
       "      <td>0.000039</td>\n",
       "      <td>0.000040</td>\n",
       "      <td>0.000039</td>\n",
       "      <td>0.000039</td>\n",
       "    </tr>\n",
       "    <tr>\n",
       "      <th>2021-11-24 08:39:00</th>\n",
       "      <td>0.000039</td>\n",
       "      <td>0.000040</td>\n",
       "      <td>0.000039</td>\n",
       "      <td>0.000039</td>\n",
       "    </tr>\n",
       "    <tr>\n",
       "      <th>2021-11-24 08:40:00</th>\n",
       "      <td>0.000039</td>\n",
       "      <td>0.000040</td>\n",
       "      <td>0.000039</td>\n",
       "      <td>0.000040</td>\n",
       "    </tr>\n",
       "    <tr>\n",
       "      <th>2021-11-24 08:41:00</th>\n",
       "      <td>0.000040</td>\n",
       "      <td>0.000040</td>\n",
       "      <td>0.000039</td>\n",
       "      <td>0.000039</td>\n",
       "    </tr>\n",
       "    <tr>\n",
       "      <th>2021-11-24 08:42:00</th>\n",
       "      <td>0.000039</td>\n",
       "      <td>0.000040</td>\n",
       "      <td>0.000039</td>\n",
       "      <td>0.000039</td>\n",
       "    </tr>\n",
       "    <tr>\n",
       "      <th>2021-11-24 08:43:00</th>\n",
       "      <td>0.000039</td>\n",
       "      <td>0.000039</td>\n",
       "      <td>0.000039</td>\n",
       "      <td>0.000039</td>\n",
       "    </tr>\n",
       "    <tr>\n",
       "      <th>2021-11-24 08:44:00</th>\n",
       "      <td>0.000039</td>\n",
       "      <td>0.000039</td>\n",
       "      <td>0.000039</td>\n",
       "      <td>0.000039</td>\n",
       "    </tr>\n",
       "    <tr>\n",
       "      <th>2021-11-24 08:45:00</th>\n",
       "      <td>0.000039</td>\n",
       "      <td>0.000039</td>\n",
       "      <td>0.000039</td>\n",
       "      <td>0.000039</td>\n",
       "    </tr>\n",
       "    <tr>\n",
       "      <th>2021-11-24 08:46:00</th>\n",
       "      <td>0.000039</td>\n",
       "      <td>0.000039</td>\n",
       "      <td>0.000039</td>\n",
       "      <td>0.000039</td>\n",
       "    </tr>\n",
       "    <tr>\n",
       "      <th>2021-11-24 08:47:00</th>\n",
       "      <td>0.000039</td>\n",
       "      <td>0.000039</td>\n",
       "      <td>0.000039</td>\n",
       "      <td>0.000039</td>\n",
       "    </tr>\n",
       "    <tr>\n",
       "      <th>2021-11-24 08:48:00</th>\n",
       "      <td>0.000039</td>\n",
       "      <td>0.000039</td>\n",
       "      <td>0.000039</td>\n",
       "      <td>0.000039</td>\n",
       "    </tr>\n",
       "    <tr>\n",
       "      <th>2021-11-24 08:49:00</th>\n",
       "      <td>0.000039</td>\n",
       "      <td>0.000039</td>\n",
       "      <td>0.000039</td>\n",
       "      <td>0.000039</td>\n",
       "    </tr>\n",
       "    <tr>\n",
       "      <th>2021-11-24 08:50:00</th>\n",
       "      <td>0.000039</td>\n",
       "      <td>0.000039</td>\n",
       "      <td>0.000039</td>\n",
       "      <td>0.000039</td>\n",
       "    </tr>\n",
       "    <tr>\n",
       "      <th>2021-11-24 08:51:00</th>\n",
       "      <td>0.000039</td>\n",
       "      <td>0.000039</td>\n",
       "      <td>0.000039</td>\n",
       "      <td>0.000039</td>\n",
       "    </tr>\n",
       "    <tr>\n",
       "      <th>2021-11-24 08:52:00</th>\n",
       "      <td>0.000039</td>\n",
       "      <td>0.000039</td>\n",
       "      <td>0.000039</td>\n",
       "      <td>0.000039</td>\n",
       "    </tr>\n",
       "    <tr>\n",
       "      <th>2021-11-24 08:53:00</th>\n",
       "      <td>0.000039</td>\n",
       "      <td>0.000040</td>\n",
       "      <td>0.000039</td>\n",
       "      <td>0.000039</td>\n",
       "    </tr>\n",
       "    <tr>\n",
       "      <th>2021-11-24 08:54:00</th>\n",
       "      <td>0.000039</td>\n",
       "      <td>0.000039</td>\n",
       "      <td>0.000039</td>\n",
       "      <td>0.000039</td>\n",
       "    </tr>\n",
       "    <tr>\n",
       "      <th>2021-11-24 08:55:00</th>\n",
       "      <td>0.000039</td>\n",
       "      <td>0.000040</td>\n",
       "      <td>0.000039</td>\n",
       "      <td>0.000040</td>\n",
       "    </tr>\n",
       "    <tr>\n",
       "      <th>2021-11-24 08:56:00</th>\n",
       "      <td>0.000040</td>\n",
       "      <td>0.000040</td>\n",
       "      <td>0.000039</td>\n",
       "      <td>0.000040</td>\n",
       "    </tr>\n",
       "    <tr>\n",
       "      <th>2021-11-24 08:57:00</th>\n",
       "      <td>0.000040</td>\n",
       "      <td>0.000040</td>\n",
       "      <td>0.000040</td>\n",
       "      <td>0.000040</td>\n",
       "    </tr>\n",
       "    <tr>\n",
       "      <th>2021-11-24 08:58:00</th>\n",
       "      <td>0.000040</td>\n",
       "      <td>0.000040</td>\n",
       "      <td>0.000040</td>\n",
       "      <td>0.000040</td>\n",
       "    </tr>\n",
       "    <tr>\n",
       "      <th>2021-11-24 08:59:00</th>\n",
       "      <td>0.000040</td>\n",
       "      <td>0.000040</td>\n",
       "      <td>0.000039</td>\n",
       "      <td>0.000039</td>\n",
       "    </tr>\n",
       "    <tr>\n",
       "      <th>2021-11-24 09:00:00</th>\n",
       "      <td>0.000039</td>\n",
       "      <td>0.000040</td>\n",
       "      <td>0.000039</td>\n",
       "      <td>0.000040</td>\n",
       "    </tr>\n",
       "    <tr>\n",
       "      <th>2021-11-24 09:01:00</th>\n",
       "      <td>0.000040</td>\n",
       "      <td>0.000040</td>\n",
       "      <td>0.000039</td>\n",
       "      <td>0.000040</td>\n",
       "    </tr>\n",
       "    <tr>\n",
       "      <th>2021-11-24 09:02:00</th>\n",
       "      <td>0.000040</td>\n",
       "      <td>0.000040</td>\n",
       "      <td>0.000040</td>\n",
       "      <td>0.000040</td>\n",
       "    </tr>\n",
       "    <tr>\n",
       "      <th>2021-11-24 09:03:00</th>\n",
       "      <td>0.000040</td>\n",
       "      <td>0.000040</td>\n",
       "      <td>0.000039</td>\n",
       "      <td>0.000040</td>\n",
       "    </tr>\n",
       "    <tr>\n",
       "      <th>2021-11-24 09:04:00</th>\n",
       "      <td>0.000040</td>\n",
       "      <td>0.000040</td>\n",
       "      <td>0.000040</td>\n",
       "      <td>0.000040</td>\n",
       "    </tr>\n",
       "    <tr>\n",
       "      <th>2021-11-24 09:05:00</th>\n",
       "      <td>0.000040</td>\n",
       "      <td>0.000040</td>\n",
       "      <td>0.000040</td>\n",
       "      <td>0.000040</td>\n",
       "    </tr>\n",
       "    <tr>\n",
       "      <th>2021-11-24 09:06:00</th>\n",
       "      <td>0.000040</td>\n",
       "      <td>0.000040</td>\n",
       "      <td>0.000040</td>\n",
       "      <td>0.000040</td>\n",
       "    </tr>\n",
       "    <tr>\n",
       "      <th>2021-11-24 09:07:00</th>\n",
       "      <td>0.000040</td>\n",
       "      <td>0.000040</td>\n",
       "      <td>0.000040</td>\n",
       "      <td>0.000040</td>\n",
       "    </tr>\n",
       "  </tbody>\n",
       "</table>\n",
       "</div>"
      ],
      "text/plain": [
       "                         Open      High       Low     Close\n",
       "Time                                                       \n",
       "2021-11-24 08:08:00  0.000039  0.000039  0.000039  0.000039\n",
       "2021-11-24 08:09:00  0.000039  0.000039  0.000039  0.000039\n",
       "2021-11-24 08:10:00  0.000039  0.000039  0.000039  0.000039\n",
       "2021-11-24 08:11:00  0.000039  0.000039  0.000039  0.000039\n",
       "2021-11-24 08:12:00  0.000039  0.000039  0.000039  0.000039\n",
       "2021-11-24 08:13:00  0.000039  0.000039  0.000039  0.000039\n",
       "2021-11-24 08:14:00  0.000039  0.000039  0.000039  0.000039\n",
       "2021-11-24 08:15:00  0.000039  0.000039  0.000039  0.000039\n",
       "2021-11-24 08:16:00  0.000039  0.000039  0.000039  0.000039\n",
       "2021-11-24 08:17:00  0.000039  0.000039  0.000039  0.000039\n",
       "2021-11-24 08:18:00  0.000039  0.000039  0.000039  0.000039\n",
       "2021-11-24 08:19:00  0.000039  0.000039  0.000039  0.000039\n",
       "2021-11-24 08:20:00  0.000039  0.000039  0.000039  0.000039\n",
       "2021-11-24 08:21:00  0.000039  0.000039  0.000039  0.000039\n",
       "2021-11-24 08:22:00  0.000039  0.000039  0.000039  0.000039\n",
       "2021-11-24 08:23:00  0.000039  0.000039  0.000039  0.000039\n",
       "2021-11-24 08:24:00  0.000039  0.000039  0.000039  0.000039\n",
       "2021-11-24 08:25:00  0.000039  0.000039  0.000039  0.000039\n",
       "2021-11-24 08:26:00  0.000039  0.000039  0.000039  0.000039\n",
       "2021-11-24 08:27:00  0.000039  0.000039  0.000039  0.000039\n",
       "2021-11-24 08:28:00  0.000039  0.000039  0.000039  0.000039\n",
       "2021-11-24 08:29:00  0.000039  0.000039  0.000039  0.000039\n",
       "2021-11-24 08:30:00  0.000039  0.000039  0.000039  0.000039\n",
       "2021-11-24 08:31:00  0.000039  0.000039  0.000039  0.000039\n",
       "2021-11-24 08:32:00  0.000039  0.000039  0.000039  0.000039\n",
       "2021-11-24 08:33:00  0.000039  0.000040  0.000039  0.000040\n",
       "2021-11-24 08:34:00  0.000040  0.000040  0.000040  0.000040\n",
       "2021-11-24 08:35:00  0.000040  0.000040  0.000040  0.000040\n",
       "2021-11-24 08:36:00  0.000040  0.000040  0.000039  0.000040\n",
       "2021-11-24 08:37:00  0.000040  0.000040  0.000039  0.000039\n",
       "2021-11-24 08:38:00  0.000039  0.000040  0.000039  0.000039\n",
       "2021-11-24 08:39:00  0.000039  0.000040  0.000039  0.000039\n",
       "2021-11-24 08:40:00  0.000039  0.000040  0.000039  0.000040\n",
       "2021-11-24 08:41:00  0.000040  0.000040  0.000039  0.000039\n",
       "2021-11-24 08:42:00  0.000039  0.000040  0.000039  0.000039\n",
       "2021-11-24 08:43:00  0.000039  0.000039  0.000039  0.000039\n",
       "2021-11-24 08:44:00  0.000039  0.000039  0.000039  0.000039\n",
       "2021-11-24 08:45:00  0.000039  0.000039  0.000039  0.000039\n",
       "2021-11-24 08:46:00  0.000039  0.000039  0.000039  0.000039\n",
       "2021-11-24 08:47:00  0.000039  0.000039  0.000039  0.000039\n",
       "2021-11-24 08:48:00  0.000039  0.000039  0.000039  0.000039\n",
       "2021-11-24 08:49:00  0.000039  0.000039  0.000039  0.000039\n",
       "2021-11-24 08:50:00  0.000039  0.000039  0.000039  0.000039\n",
       "2021-11-24 08:51:00  0.000039  0.000039  0.000039  0.000039\n",
       "2021-11-24 08:52:00  0.000039  0.000039  0.000039  0.000039\n",
       "2021-11-24 08:53:00  0.000039  0.000040  0.000039  0.000039\n",
       "2021-11-24 08:54:00  0.000039  0.000039  0.000039  0.000039\n",
       "2021-11-24 08:55:00  0.000039  0.000040  0.000039  0.000040\n",
       "2021-11-24 08:56:00  0.000040  0.000040  0.000039  0.000040\n",
       "2021-11-24 08:57:00  0.000040  0.000040  0.000040  0.000040\n",
       "2021-11-24 08:58:00  0.000040  0.000040  0.000040  0.000040\n",
       "2021-11-24 08:59:00  0.000040  0.000040  0.000039  0.000039\n",
       "2021-11-24 09:00:00  0.000039  0.000040  0.000039  0.000040\n",
       "2021-11-24 09:01:00  0.000040  0.000040  0.000039  0.000040\n",
       "2021-11-24 09:02:00  0.000040  0.000040  0.000040  0.000040\n",
       "2021-11-24 09:03:00  0.000040  0.000040  0.000039  0.000040\n",
       "2021-11-24 09:04:00  0.000040  0.000040  0.000040  0.000040\n",
       "2021-11-24 09:05:00  0.000040  0.000040  0.000040  0.000040\n",
       "2021-11-24 09:06:00  0.000040  0.000040  0.000040  0.000040\n",
       "2021-11-24 09:07:00  0.000040  0.000040  0.000040  0.000040"
      ]
     },
     "execution_count": 12,
     "metadata": {},
     "output_type": "execute_result"
    }
   ],
   "source": [
    "test, volume = get_historical_data('SHIBUSDT', '1m', '60')\n",
    "test"
   ]
  },
  {
   "cell_type": "code",
   "execution_count": 13,
   "metadata": {},
   "outputs": [
    {
     "data": {
      "text/plain": [
       "<AxesSubplot:xlabel='Time'>"
      ]
     },
     "execution_count": 13,
     "metadata": {},
     "output_type": "execute_result"
    },
    {
     "data": {
      "image/png": "[encoded data removed]",
      "text/plain": [
       "<Figure size 432x288 with 1 Axes>"
      ]
     },
     "metadata": {
      "needs_background": "light"
     },
     "output_type": "display_data"
    }
   ],
   "source": [
    "test.plot()"
   ]
  },
  {
   "cell_type": "code",
   "execution_count": 14,
   "metadata": {},
   "outputs": [
    {
     "data": {
      "text/plain": [
       "<AxesSubplot:xlabel='Time'>"
      ]
     },
     "execution_count": 14,
     "metadata": {},
     "output_type": "execute_result"
    },
    {
     "data": {
      "image/png": "[encoded data removed]",
      "text/plain": [
       "<Figure size 432x288 with 1 Axes>"
      ]
     },
     "metadata": {
      "needs_background": "light"
     },
     "output_type": "display_data"
    }
   ],
   "source": [
    "volume.plot()"
   ]
  },
  {
   "cell_type": "code",
   "execution_count": 15,
   "metadata": {},
   "outputs": [
    {
     "data": {
      "application/vnd.plotly.v1+json": {
       "config": {
        "plotlyServerURL": "https://plot.ly"
       },
       "data": [
        {
         "close": [
          0.00003914,
          0.00003921,
          0.00003919,
          0.00003918,
          0.00003918,
          0.00003917,
          0.00003913,
          0.00003925,
          0.00003926,
          0.00003928,
          0.00003928,
          0.00003929,
          0.00003924,
          0.00003922,
          0.00003924,
          0.00003924,
          0.00003922,
          0.00003919,
          0.00003922,
          0.0000393,
          0.00003924,
          0.00003928,
          0.00003932,
          0.00003928,
          0.00003949,
          0.00003958,
          0.00003963,
          0.00003959,
          0.00003952,
          0.0000395,
          0.00003944,
          0.0000395,
          0.00003953,
          0.0000395,
          0.00003944,
          0.00003944,
          0.00003931,
          0.00003927,
          0.00003927,
          0.0000393,
          0.00003933,
          0.00003937,
          0.00003944,
          0.00003939,
          0.00003948,
          0.00003944,
          0.00003945,
          0.00003951,
          0.00003959,
          0.00003957,
          0.00003953,
          0.00003948,
          0.00003956,
          0.00003953,
          0.00003956,
          0.00003956,
          0.00003966,
          0.00003964,
          0.00003959,
          0.00003963
         ],
         "high": [
          0.0000393,
          0.00003926,
          0.00003925,
          0.00003924,
          0.00003923,
          0.00003921,
          0.00003917,
          0.00003926,
          0.00003928,
          0.00003935,
          0.00003928,
          0.00003931,
          0.0000393,
          0.00003925,
          0.00003926,
          0.00003928,
          0.00003925,
          0.00003929,
          0.00003926,
          0.00003931,
          0.0000393,
          0.00003932,
          0.00003932,
          0.00003934,
          0.00003949,
          0.0000397,
          0.00003964,
          0.00003962,
          0.00003959,
          0.00003955,
          0.00003955,
          0.00003954,
          0.00003962,
          0.00003954,
          0.00003951,
          0.00003948,
          0.00003945,
          0.00003939,
          0.0000393,
          0.00003933,
          0.00003934,
          0.00003942,
          0.00003948,
          0.00003945,
          0.00003949,
          0.00003955,
          0.00003945,
          0.00003954,
          0.0000396,
          0.0000396,
          0.0000396,
          0.00003953,
          0.00003959,
          0.00003958,
          0.00003958,
          0.00003957,
          0.00003969,
          0.0000397,
          0.00003966,
          0.00003965
         ],
         "low": [
          0.00003912,
          0.00003914,
          0.00003918,
          0.00003915,
          0.00003917,
          0.00003916,
          0.00003906,
          0.00003911,
          0.00003922,
          0.00003924,
          0.00003926,
          0.00003926,
          0.00003922,
          0.0000392,
          0.0000392,
          0.00003923,
          0.0000392,
          0.00003914,
          0.00003918,
          0.00003921,
          0.00003919,
          0.00003924,
          0.00003925,
          0.00003922,
          0.00003925,
          0.00003943,
          0.00003951,
          0.00003954,
          0.00003945,
          0.00003947,
          0.00003943,
          0.00003941,
          0.00003949,
          0.00003944,
          0.00003943,
          0.00003938,
          0.00003929,
          0.00003925,
          0.00003922,
          0.00003924,
          0.00003928,
          0.00003931,
          0.00003937,
          0.00003937,
          0.00003936,
          0.00003944,
          0.00003935,
          0.00003943,
          0.0000395,
          0.00003951,
          0.00003951,
          0.00003942,
          0.00003947,
          0.00003949,
          0.00003951,
          0.00003948,
          0.00003955,
          0.00003961,
          0.00003955,
          0.00003958
         ],
         "open": [
          0.00003929,
          0.00003915,
          0.00003921,
          0.00003919,
          0.00003918,
          0.00003918,
          0.00003917,
          0.00003912,
          0.00003925,
          0.00003927,
          0.00003927,
          0.00003927,
          0.0000393,
          0.00003925,
          0.00003921,
          0.00003923,
          0.00003924,
          0.00003921,
          0.00003918,
          0.00003921,
          0.00003929,
          0.00003925,
          0.00003929,
          0.00003931,
          0.00003928,
          0.00003948,
          0.00003957,
          0.00003962,
          0.00003959,
          0.00003952,
          0.0000395,
          0.00003943,
          0.0000395,
          0.00003954,
          0.00003949,
          0.00003944,
          0.00003945,
          0.0000393,
          0.00003926,
          0.00003927,
          0.00003929,
          0.00003932,
          0.00003938,
          0.00003945,
          0.00003939,
          0.00003947,
          0.00003944,
          0.00003945,
          0.00003952,
          0.00003959,
          0.00003957,
          0.00003952,
          0.00003948,
          0.00003956,
          0.00003953,
          0.00003956,
          0.00003955,
          0.00003966,
          0.00003964,
          0.00003959
         ],
         "type": "candlestick",
         "x": [
          "2021-11-24T08:08:00",
          "2021-11-24T08:09:00",
          "2021-11-24T08:10:00",
          "2021-11-24T08:11:00",
          "2021-11-24T08:12:00",
          "2021-11-24T08:13:00",
          "2021-11-24T08:14:00",
          "2021-11-24T08:15:00",
          "2021-11-24T08:16:00",
          "2021-11-24T08:17:00",
          "2021-11-24T08:18:00",
          "2021-11-24T08:19:00",
          "2021-11-24T08:20:00",
          "2021-11-24T08:21:00",
          "2021-11-24T08:22:00",
          "2021-11-24T08:23:00",
          "2021-11-24T08:24:00",
          "2021-11-24T08:25:00",
          "2021-11-24T08:26:00",
          "2021-11-24T08:27:00",
          "2021-11-24T08:28:00",
          "2021-11-24T08:29:00",
          "2021-11-24T08:30:00",
          "2021-11-24T08:31:00",
          "2021-11-24T08:32:00",
          "2021-11-24T08:33:00",
          "2021-11-24T08:34:00",
          "2021-11-24T08:35:00",
          "2021-11-24T08:36:00",
          "2021-11-24T08:37:00",
          "2021-11-24T08:38:00",
          "2021-11-24T08:39:00",
          "2021-11-24T08:40:00",
          "2021-11-24T08:41:00",
          "2021-11-24T08:42:00",
          "2021-11-24T08:43:00",
          "2021-11-24T08:44:00",
          "2021-11-24T08:45:00",
          "2021-11-24T08:46:00",
          "2021-11-24T08:47:00",
          "2021-11-24T08:48:00",
          "2021-11-24T08:49:00",
          "2021-11-24T08:50:00",
          "2021-11-24T08:51:00",
          "2021-11-24T08:52:00",
          "2021-11-24T08:53:00",
          "2021-11-24T08:54:00",
          "2021-11-24T08:55:00",
          "2021-11-24T08:56:00",
          "2021-11-24T08:57:00",
          "2021-11-24T08:58:00",
          "2021-11-24T08:59:00",
          "2021-11-24T09:00:00",
          "2021-11-24T09:01:00",
          "2021-11-24T09:02:00",
          "2021-11-24T09:03:00",
          "2021-11-24T09:04:00",
          "2021-11-24T09:05:00",
          "2021-11-24T09:06:00",
          "2021-11-24T09:07:00"
         ]
        }
       ],
       "layout": {
        "template": {
         "data": {
          "bar": [
           {
            "error_x": {
             "color": "#2a3f5f"
            },
            "error_y": {
             "color": "#2a3f5f"
            },
            "marker": {
             "line": {
              "color": "#E5ECF6",
              "width": 0.5
             },
             "pattern": {
              "fillmode": "overlay",
              "size": 10,
              "solidity": 0.2
             }
            },
            "type": "bar"
           }
          ],
          "barpolar": [
           {
            "marker": {
             "line": {
              "color": "#E5ECF6",
              "width": 0.5
             },
             "pattern": {
              "fillmode": "overlay",
              "size": 10,
              "solidity": 0.2
             }
            },
            "type": "barpolar"
           }
          ],
          "carpet": [
           {
            "aaxis": {
             "endlinecolor": "#2a3f5f",
             "gridcolor": "white",
             "linecolor": "white",
             "minorgridcolor": "white",
             "startlinecolor": "#2a3f5f"
            },
            "baxis": {
             "endlinecolor": "#2a3f5f",
             "gridcolor": "white",
             "linecolor": "white",
             "minorgridcolor": "white",
             "startlinecolor": "#2a3f5f"
            },
            "type": "carpet"
           }
          ],
          "choropleth": [
           {
            "colorbar": {
             "outlinewidth": 0,
             "ticks": ""
            },
            "type": "choropleth"
           }
          ],
          "contour": [
           {
            "colorbar": {
             "outlinewidth": 0,
             "ticks": ""
            },
            "colorscale": [
             [
              0,
              "#0d0887"
             ],
             [
              0.1111111111111111,
              "#46039f"
             ],
             [
              0.2222222222222222,
              "#7201a8"
             ],
             [
              0.3333333333333333,
              "#9c179e"
             ],
             [
              0.4444444444444444,
              "#bd3786"
             ],
             [
              0.5555555555555556,
              "#d8576b"
             ],
             [
              0.6666666666666666,
              "#ed7953"
             ],
             [
              0.7777777777777778,
              "#fb9f3a"
             ],
             [
              0.8888888888888888,
              "#fdca26"
             ],
             [
              1,
              "#f0f921"
             ]
            ],
            "type": "contour"
           }
          ],
          "contourcarpet": [
           {
            "colorbar": {
             "outlinewidth": 0,
             "ticks": ""
            },
            "type": "contourcarpet"
           }
          ],
          "heatmap": [
           {
            "colorbar": {
             "outlinewidth": 0,
             "ticks": ""
            },
            "colorscale": [
             [
              0,
              "#0d0887"
             ],
             [
              0.1111111111111111,
              "#46039f"
             ],
             [
              0.2222222222222222,
              "#7201a8"
             ],
             [
              0.3333333333333333,
              "#9c179e"
             ],
             [
              0.4444444444444444,
              "#bd3786"
             ],
             [
              0.5555555555555556,
              "#d8576b"
             ],
             [
              0.6666666666666666,
              "#ed7953"
             ],
             [
              0.7777777777777778,
              "#fb9f3a"
             ],
             [
              0.8888888888888888,
              "#fdca26"
             ],
             [
              1,
              "#f0f921"
             ]
            ],
            "type": "heatmap"
           }
          ],
          "heatmapgl": [
           {
            "colorbar": {
             "outlinewidth": 0,
             "ticks": ""
            },
            "colorscale": [
             [
              0,
              "#0d0887"
             ],
             [
              0.1111111111111111,
              "#46039f"
             ],
             [
              0.2222222222222222,
              "#7201a8"
             ],
             [
              0.3333333333333333,
              "#9c179e"
             ],
             [
              0.4444444444444444,
              "#bd3786"
             ],
             [
              0.5555555555555556,
              "#d8576b"
             ],
             [
              0.6666666666666666,
              "#ed7953"
             ],
             [
              0.7777777777777778,
              "#fb9f3a"
             ],
             [
              0.8888888888888888,
              "#fdca26"
             ],
             [
              1,
              "#f0f921"
             ]
            ],
            "type": "heatmapgl"
           }
          ],
          "histogram": [
           {
            "marker": {
             "pattern": {
              "fillmode": "overlay",
              "size": 10,
              "solidity": 0.2
             }
            },
            "type": "histogram"
           }
          ],
          "histogram2d": [
           {
            "colorbar": {
             "outlinewidth": 0,
             "ticks": ""
            },
            "colorscale": [
             [
              0,
              "#0d0887"
             ],
             [
              0.1111111111111111,
              "#46039f"
             ],
             [
              0.2222222222222222,
              "#7201a8"
             ],
             [
              0.3333333333333333,
              "#9c179e"
             ],
             [
              0.4444444444444444,
              "#bd3786"
             ],
             [
              0.5555555555555556,
              "#d8576b"
             ],
             [
              0.6666666666666666,
              "#ed7953"
             ],
             [
              0.7777777777777778,
              "#fb9f3a"
             ],
             [
              0.8888888888888888,
              "#fdca26"
             ],
             [
              1,
              "#f0f921"
             ]
            ],
            "type": "histogram2d"
           }
          ],
          "histogram2dcontour": [
           {
            "colorbar": {
             "outlinewidth": 0,
             "ticks": ""
            },
            "colorscale": [
             [
              0,
              "#0d0887"
             ],
             [
              0.1111111111111111,
              "#46039f"
             ],
             [
              0.2222222222222222,
              "#7201a8"
             ],
             [
              0.3333333333333333,
              "#9c179e"
             ],
             [
              0.4444444444444444,
              "#bd3786"
             ],
             [
              0.5555555555555556,
              "#d8576b"
             ],
             [
              0.6666666666666666,
              "#ed7953"
             ],
             [
              0.7777777777777778,
              "#fb9f3a"
             ],
             [
              0.8888888888888888,
              "#fdca26"
             ],
             [
              1,
              "#f0f921"
             ]
            ],
            "type": "histogram2dcontour"
           }
          ],
          "mesh3d": [
           {
            "colorbar": {
             "outlinewidth": 0,
             "ticks": ""
            },
            "type": "mesh3d"
           }
          ],
          "parcoords": [
           {
            "line": {
             "colorbar": {
              "outlinewidth": 0,
              "ticks": ""
             }
            },
            "type": "parcoords"
           }
          ],
          "pie": [
           {
            "automargin": true,
            "type": "pie"
           }
          ],
          "scatter": [
           {
            "marker": {
             "colorbar": {
              "outlinewidth": 0,
              "ticks": ""
             }
            },
            "type": "scatter"
           }
          ],
          "scatter3d": [
           {
            "line": {
             "colorbar": {
              "outlinewidth": 0,
              "ticks": ""
             }
            },
            "marker": {
             "colorbar": {
              "outlinewidth": 0,
              "ticks": ""
             }
            },
            "type": "scatter3d"
           }
          ],
          "scattercarpet": [
           {
            "marker": {
             "colorbar": {
              "outlinewidth": 0,
              "ticks": ""
             }
            },
            "type": "scattercarpet"
           }
          ],
          "scattergeo": [
           {
            "marker": {
             "colorbar": {
              "outlinewidth": 0,
              "ticks": ""
             }
            },
            "type": "scattergeo"
           }
          ],
          "scattergl": [
           {
            "marker": {
             "colorbar": {
              "outlinewidth": 0,
              "ticks": ""
             }
            },
            "type": "scattergl"
           }
          ],
          "scattermapbox": [
           {
            "marker": {
             "colorbar": {
              "outlinewidth": 0,
              "ticks": ""
             }
            },
            "type": "scattermapbox"
           }
          ],
          "scatterpolar": [
           {
            "marker": {
             "colorbar": {
              "outlinewidth": 0,
              "ticks": ""
             }
            },
            "type": "scatterpolar"
           }
          ],
          "scatterpolargl": [
           {
            "marker": {
             "colorbar": {
              "outlinewidth": 0,
              "ticks": ""
             }
            },
            "type": "scatterpolargl"
           }
          ],
          "scatterternary": [
           {
            "marker": {
             "colorbar": {
              "outlinewidth": 0,
              "ticks": ""
             }
            },
            "type": "scatterternary"
           }
          ],
          "surface": [
           {
            "colorbar": {
             "outlinewidth": 0,
             "ticks": ""
            },
            "colorscale": [
             [
              0,
              "#0d0887"
             ],
             [
              0.1111111111111111,
              "#46039f"
             ],
             [
              0.2222222222222222,
              "#7201a8"
             ],
             [
              0.3333333333333333,
              "#9c179e"
             ],
             [
              0.4444444444444444,
              "#bd3786"
             ],
             [
              0.5555555555555556,
              "#d8576b"
             ],
             [
              0.6666666666666666,
              "#ed7953"
             ],
             [
              0.7777777777777778,
              "#fb9f3a"
             ],
             [
              0.8888888888888888,
              "#fdca26"
             ],
             [
              1,
              "#f0f921"
             ]
            ],
            "type": "surface"
           }
          ],
          "table": [
           {
            "cells": {
             "fill": {
              "color": "#EBF0F8"
             },
             "line": {
              "color": "white"
             }
            },
            "header": {
             "fill": {
              "color": "#C8D4E3"
             },
             "line": {
              "color": "white"
             }
            },
            "type": "table"
           }
          ]
         },
         "layout": {
          "annotationdefaults": {
           "arrowcolor": "#2a3f5f",
           "arrowhead": 0,
           "arrowwidth": 1
          },
          "autotypenumbers": "strict",
          "coloraxis": {
           "colorbar": {
            "outlinewidth": 0,
            "ticks": ""
           }
          },
          "colorscale": {
           "diverging": [
            [
             0,
             "#8e0152"
            ],
            [
             0.1,
             "#c51b7d"
            ],
            [
             0.2,
             "#de77ae"
            ],
            [
             0.3,
             "#f1b6da"
            ],
            [
             0.4,
             "#fde0ef"
            ],
            [
             0.5,
             "#f7f7f7"
            ],
            [
             0.6,
             "#e6f5d0"
            ],
            [
             0.7,
             "#b8e186"
            ],
            [
             0.8,
             "#7fbc41"
            ],
            [
             0.9,
             "#4d9221"
            ],
            [
             1,
             "#276419"
            ]
           ],
           "sequential": [
            [
             0,
             "#0d0887"
            ],
            [
             0.1111111111111111,
             "#46039f"
            ],
            [
             0.2222222222222222,
             "#7201a8"
            ],
            [
             0.3333333333333333,
             "#9c179e"
            ],
            [
             0.4444444444444444,
             "#bd3786"
            ],
            [
             0.5555555555555556,
             "#d8576b"
            ],
            [
             0.6666666666666666,
             "#ed7953"
            ],
            [
             0.7777777777777778,
             "#fb9f3a"
            ],
            [
             0.8888888888888888,
             "#fdca26"
            ],
            [
             1,
             "#f0f921"
            ]
           ],
           "sequentialminus": [
            [
             0,
             "#0d0887"
            ],
            [
             0.1111111111111111,
             "#46039f"
            ],
            [
             0.2222222222222222,
             "#7201a8"
            ],
            [
             0.3333333333333333,
             "#9c179e"
            ],
            [
             0.4444444444444444,
             "#bd3786"
            ],
            [
             0.5555555555555556,
             "#d8576b"
            ],
            [
             0.6666666666666666,
             "#ed7953"
            ],
            [
             0.7777777777777778,
             "#fb9f3a"
            ],
            [
             0.8888888888888888,
             "#fdca26"
            ],
            [
             1,
             "#f0f921"
            ]
           ]
          },
          "colorway": [
           "#636efa",
           "#EF553B",
           "#00cc96",
           "#ab63fa",
           "#FFA15A",
           "#19d3f3",
           "#FF6692",
           "#B6E880",
           "#FF97FF",
           "#FECB52"
          ],
          "font": {
           "color": "#2a3f5f"
          },
          "geo": {
           "bgcolor": "white",
           "lakecolor": "white",
           "landcolor": "#E5ECF6",
           "showlakes": true,
           "showland": true,
           "subunitcolor": "white"
          },
          "hoverlabel": {
           "align": "left"
          },
          "hovermode": "closest",
          "mapbox": {
           "style": "light"
          },
          "paper_bgcolor": "white",
          "plot_bgcolor": "#E5ECF6",
          "polar": {
           "angularaxis": {
            "gridcolor": "white",
            "linecolor": "white",
            "ticks": ""
           },
           "bgcolor": "#E5ECF6",
           "radialaxis": {
            "gridcolor": "white",
            "linecolor": "white",
            "ticks": ""
           }
          },
          "scene": {
           "xaxis": {
            "backgroundcolor": "#E5ECF6",
            "gridcolor": "white",
            "gridwidth": 2,
            "linecolor": "white",
            "showbackground": true,
            "ticks": "",
            "zerolinecolor": "white"
           },
           "yaxis": {
            "backgroundcolor": "#E5ECF6",
            "gridcolor": "white",
            "gridwidth": 2,
            "linecolor": "white",
            "showbackground": true,
            "ticks": "",
            "zerolinecolor": "white"
           },
           "zaxis": {
            "backgroundcolor": "#E5ECF6",
            "gridcolor": "white",
            "gridwidth": 2,
            "linecolor": "white",
            "showbackground": true,
            "ticks": "",
            "zerolinecolor": "white"
           }
          },
          "shapedefaults": {
           "line": {
            "color": "#2a3f5f"
           }
          },
          "ternary": {
           "aaxis": {
            "gridcolor": "white",
            "linecolor": "white",
            "ticks": ""
           },
           "baxis": {
            "gridcolor": "white",
            "linecolor": "white",
            "ticks": ""
           },
           "bgcolor": "#E5ECF6",
           "caxis": {
            "gridcolor": "white",
            "linecolor": "white",
            "ticks": ""
           }
          },
          "title": {
           "x": 0.05
          },
          "xaxis": {
           "automargin": true,
           "gridcolor": "white",
           "linecolor": "white",
           "ticks": "",
           "title": {
            "standoff": 15
           },
           "zerolinecolor": "white",
           "zerolinewidth": 2
          },
          "yaxis": {
           "automargin": true,
           "gridcolor": "white",
           "linecolor": "white",
           "ticks": "",
           "title": {
            "standoff": 15
           },
           "zerolinecolor": "white",
           "zerolinewidth": 2
          }
         }
        },
        "xaxis": {
         "title": {
          "text": "Time (mins)"
         }
        },
        "yaxis": {
         "title": {
          "text": "Price ($)"
         }
        }
       }
      }
     },
     "metadata": {},
     "output_type": "display_data"
    }
   ],
   "source": [
    "fig = go.Figure(data=[go.Candlestick(x=test.index, open=test.Open, high=test.High, low=test.Low, close=test.Close)])\n",
    "#fig.update_layout(xaxis_rangeslider_visible=False)\n",
    "fig.update_layout(yaxis_title=\"Price ($)\", xaxis_title=\"Time (mins)\")\n",
    "fig.show()"
   ]
  },
  {
   "cell_type": "code",
   "execution_count": null,
   "metadata": {},
   "outputs": [],
   "source": []
  },
  {
   "cell_type": "code",
   "execution_count": null,
   "metadata": {},
   "outputs": [
    {
     "data": {
      "text/html": [
       "\n",
       "    <div class=\"bk-root\">\n",
       "        <a href=\"https://bokeh.org\" target=\"_blank\" class=\"bk-logo bk-logo-small bk-logo-notebook\"></a>\n",
       "        <span id=\"2028\">Loading BokehJS ...</span>\n",
       "    </div>"
      ]
     },
     "metadata": {},
     "output_type": "display_data"
    },
    {
     "data": {
      "application/javascript": "\n(function(root) {\n  function now() {\n    return new Date();\n  }\n\n  const force = true;\n\n  if (typeof root._bokeh_onload_callbacks === \"undefined\" || force === true) {\n    root._bokeh_onload_callbacks = [];\n    root._bokeh_is_loading = undefined;\n  }\n\n  const JS_MIME_TYPE = 'application/javascript';\n  const HTML_MIME_TYPE = 'text/html';\n  const EXEC_MIME_TYPE = 'application/vnd.bokehjs_exec.v0+json';\n  const CLASS_NAME = 'output_bokeh rendered_html';\n\n  /**\n   * Render data to the DOM node\n   */\n  function render(props, node) {\n    const script = document.createElement(\"script\");\n    node.appendChild(script);\n  }\n\n  /**\n   * Handle when an output is cleared or removed\n   */\n  function handleClearOutput(event, handle) {\n    const cell = handle.cell;\n\n    const id = cell.output_area._bokeh_element_id;\n    const server_id = cell.output_area._bokeh_server_id;\n    // Clean up Bokeh references\n    if (id != null && id in Bokeh.index) {\n      Bokeh.index[id].model.document.clear();\n      delete Bokeh.index[id];\n    }\n\n    if (server_id !== undefined) {\n      // Clean up Bokeh references\n      const cmd_clean = \"from bokeh.io.state import curstate; print(curstate().uuid_to_server['\" + server_id + \"'].get_sessions()[0].document.roots[0]._id)\";\n      cell.notebook.kernel.execute(cmd_clean, {\n        iopub: {\n          output: function(msg) {\n            const id = msg.content.text.trim();\n            if (id in Bokeh.index) {\n              Bokeh.index[id].model.document.clear();\n              delete Bokeh.index[id];\n            }\n          }\n        }\n      });\n      // Destroy server and session\n      const cmd_destroy = \"import bokeh.io.notebook as ion; ion.destroy_server('\" + server_id + \"')\";\n      cell.notebook.kernel.execute(cmd_destroy);\n    }\n  }\n\n  /**\n   * Handle when a new output is added\n   */\n  function handleAddOutput(event, handle) {\n    const output_area = handle.output_area;\n    const output = handle.output;\n\n    // limit handleAddOutput to display_data with EXEC_MIME_TYPE content only\n    if ((output.output_type != \"display_data\") || (!Object.prototype.hasOwnProperty.call(output.data, EXEC_MIME_TYPE))) {\n      return\n    }\n\n    const toinsert = output_area.element.find(\".\" + CLASS_NAME.split(' ')[0]);\n\n    if (output.metadata[EXEC_MIME_TYPE][\"id\"] !== undefined) {\n      toinsert[toinsert.length - 1].firstChild.textContent = output.data[JS_MIME_TYPE];\n      // store reference to embed id on output_area\n      output_area._bokeh_element_id = output.metadata[EXEC_MIME_TYPE][\"id\"];\n    }\n    if (output.metadata[EXEC_MIME_TYPE][\"server_id\"] !== undefined) {\n      const bk_div = document.createElement(\"div\");\n      bk_div.innerHTML = output.data[HTML_MIME_TYPE];\n      const script_attrs = bk_div.children[0].attributes;\n      for (let i = 0; i < script_attrs.length; i++) {\n        toinsert[toinsert.length - 1].firstChild.setAttribute(script_attrs[i].name, script_attrs[i].value);\n        toinsert[toinsert.length - 1].firstChild.textContent = bk_div.children[0].textContent\n      }\n      // store reference to server id on output_area\n      output_area._bokeh_server_id = output.metadata[EXEC_MIME_TYPE][\"server_id\"];\n    }\n  }\n\n  function register_renderer(events, OutputArea) {\n\n    function append_mime(data, metadata, element) {\n      // create a DOM node to render to\n      const toinsert = this.create_output_subarea(\n        metadata,\n        CLASS_NAME,\n        EXEC_MIME_TYPE\n      );\n      this.keyboard_manager.register_events(toinsert);\n      // Render to node\n      const props = {data: data, metadata: metadata[EXEC_MIME_TYPE]};\n      render(props, toinsert[toinsert.length - 1]);\n      element.append(toinsert);\n      return toinsert\n    }\n\n    /* Handle when an output is cleared or removed */\n    events.on('clear_output.CodeCell', handleClearOutput);\n    events.on('delete.Cell', handleClearOutput);\n\n    /* Handle when a new output is added */\n    events.on('output_added.OutputArea', handleAddOutput);\n\n    /**\n     * Register the mime type and append_mime function with output_area\n     */\n    OutputArea.prototype.register_mime_type(EXEC_MIME_TYPE, append_mime, {\n      /* Is output safe? */\n      safe: true,\n      /* Index of renderer in `output_area.display_order` */\n      index: 0\n    });\n  }\n\n  // register the mime type if in Jupyter Notebook environment and previously unregistered\n  if (root.Jupyter !== undefined) {\n    const events = require('base/js/events');\n    const OutputArea = require('notebook/js/outputarea').OutputArea;\n\n    if (OutputArea.prototype.mime_types().indexOf(EXEC_MIME_TYPE) == -1) {\n      register_renderer(events, OutputArea);\n    }\n  }\n\n  \n  if (typeof (root._bokeh_timeout) === \"undefined\" || force === true) {\n    root._bokeh_timeout = Date.now() + 5000;\n    root._bokeh_failed_load = false;\n  }\n\n  const NB_LOAD_WARNING = {'data': {'text/html':\n     \"<div style='background-color: #fdd'>\\n\"+\n     \"<p>\\n\"+\n     \"BokehJS does not appear to have successfully loaded. If loading BokehJS from CDN, this \\n\"+\n     \"may be due to a slow or bad network connection. Possible fixes:\\n\"+\n     \"</p>\\n\"+\n     \"<ul>\\n\"+\n     \"<li>re-rerun `output_notebook()` to attempt to load from CDN again, or</li>\\n\"+\n     \"<li>use INLINE resources instead, as so:</li>\\n\"+\n     \"</ul>\\n\"+\n     \"<code>\\n\"+\n     \"from bokeh.resources import INLINE\\n\"+\n     \"output_notebook(resources=INLINE)\\n\"+\n     \"</code>\\n\"+\n     \"</div>\"}};\n\n  function display_loaded() {\n    const el = document.getElementById(\"2028\");\n    if (el != null) {\n      el.textContent = \"BokehJS is loading...\";\n    }\n    if (root.Bokeh !== undefined) {\n      if (el != null) {\n        el.textContent = \"BokehJS \" + root.Bokeh.version + \" successfully loaded.\";\n      }\n    } else if (Date.now() < root._bokeh_timeout) {\n      setTimeout(display_loaded, 100)\n    }\n  }\n\n\n  function run_callbacks() {\n    try {\n      root._bokeh_onload_callbacks.forEach(function(callback) {\n        if (callback != null)\n          callback();\n      });\n    } finally {\n      delete root._bokeh_onload_callbacks\n    }\n    console.debug(\"Bokeh: all callbacks have finished\");\n  }\n\n  function load_libs(css_urls, js_urls, callback) {\n    if (css_urls == null) css_urls = [];\n    if (js_urls == null) js_urls = [];\n\n    root._bokeh_onload_callbacks.push(callback);\n    if (root._bokeh_is_loading > 0) {\n      console.debug(\"Bokeh: BokehJS is being loaded, scheduling callback at\", now());\n      return null;\n    }\n    if (js_urls == null || js_urls.length === 0) {\n      run_callbacks();\n      return null;\n    }\n    console.debug(\"Bokeh: BokehJS not loaded, scheduling load and callback at\", now());\n    root._bokeh_is_loading = css_urls.length + js_urls.length;\n\n    function on_load() {\n      root._bokeh_is_loading--;\n      if (root._bokeh_is_loading === 0) {\n        console.debug(\"Bokeh: all BokehJS libraries/stylesheets loaded\");\n        run_callbacks()\n      }\n    }\n\n    function on_error(url) {\n      console.error(\"failed to load \" + url);\n    }\n\n    for (let i = 0; i < css_urls.length; i++) {\n      const url = css_urls[i];\n      const element = document.createElement(\"link\");\n      element.onload = on_load;\n      element.onerror = on_error.bind(null, url);\n      element.rel = \"stylesheet\";\n      element.type = \"text/css\";\n      element.href = url;\n      console.debug(\"Bokeh: injecting link tag for BokehJS stylesheet: \", url);\n      document.body.appendChild(element);\n    }\n\n    for (let i = 0; i < js_urls.length; i++) {\n      const url = js_urls[i];\n      const element = document.createElement('script');\n      element.onload = on_load;\n      element.onerror = on_error.bind(null, url);\n      element.async = false;\n      element.src = url;\n      console.debug(\"Bokeh: injecting script tag for BokehJS library: \", url);\n      document.head.appendChild(element);\n    }\n  };\n\n  function inject_raw_css(css) {\n    const element = document.createElement(\"style\");\n    element.appendChild(document.createTextNode(css));\n    document.body.appendChild(element);\n  }\n\n  \n  const js_urls = [\"https://cdn.bokeh.org/bokeh/release/bokeh-2.4.1.min.js\", \"https://cdn.bokeh.org/bokeh/release/bokeh-gl-2.4.1.min.js\", \"https://cdn.bokeh.org/bokeh/release/bokeh-widgets-2.4.1.min.js\", \"https://cdn.bokeh.org/bokeh/release/bokeh-tables-2.4.1.min.js\", \"https://cdn.bokeh.org/bokeh/release/bokeh-mathjax-2.4.1.min.js\"];\n  const css_urls = [];\n  \n\n  const inline_js = [\n    function(Bokeh) {\n      Bokeh.set_log_level(\"info\");\n    },\n    function(Bokeh) {\n    \n    \n    }\n  ];\n\n  function run_inline_js() {\n    \n    if (root.Bokeh !== undefined || force === true) {\n      \n    for (let i = 0; i < inline_js.length; i++) {\n      inline_js[i].call(root, root.Bokeh);\n    }\n    if (force === true) {\n        display_loaded();\n      }} else if (Date.now() < root._bokeh_timeout) {\n      setTimeout(run_inline_js, 100);\n    } else if (!root._bokeh_failed_load) {\n      console.log(\"Bokeh: BokehJS failed to load within specified timeout.\");\n      root._bokeh_failed_load = true;\n    } else if (force !== true) {\n      const cell = $(document.getElementById(\"2028\")).parents('.cell').data().cell;\n      cell.output_area.append_execute_result(NB_LOAD_WARNING)\n    }\n\n  }\n\n  if (root._bokeh_is_loading === 0) {\n    console.debug(\"Bokeh: BokehJS loaded, going straight to plotting\");\n    run_inline_js();\n  } else {\n    load_libs(css_urls, js_urls, function() {\n      console.debug(\"Bokeh: BokehJS plotting callback run at\", now());\n      run_inline_js();\n    });\n  }\n}(window));",
      "application/vnd.bokehjs_load.v0+json": ""
     },
     "metadata": {},
     "output_type": "display_data"
    }
   ],
   "source": [
    "pandas_bokeh.output_notebook()"
   ]
  },
  {
   "cell_type": "code",
   "execution_count": null,
   "metadata": {},
   "outputs": [
    {
     "data": {
      "text/html": [
       "\n",
       "\n",
       "\n",
       "\n",
       "\n",
       "\n",
       "  <div class=\"bk-root\" id=\"9af97f7b-e9e2-439c-affc-e0e0328f1bed\" data-root-id=\"2029\"></div>\n"
      ]
     },
     "metadata": {},
     "output_type": "display_data"
    },
    {
     "data": {
      "application/javascript": "(function(root) {\n  function embed_document(root) {\n    \n  const docs_json = {\"4b63f092-874e-4e0f-be5b-02e5a0487578\":{\"defs\":[],\"roots\":{\"references\":[{\"attributes\":{\"below\":[{\"id\":\"2040\"}],\"center\":[{\"id\":\"2043\"},{\"id\":\"2047\"},{\"id\":\"2091\"}],\"height\":400,\"left\":[{\"id\":\"2044\"}],\"output_backend\":\"webgl\",\"renderers\":[{\"id\":\"2067\"},{\"id\":\"2100\"},{\"id\":\"2134\"},{\"id\":\"2170\"}],\"sizing_mode\":\"fixed\",\"title\":{\"id\":\"2030\"},\"toolbar\":{\"id\":\"2055\"},\"x_range\":{\"id\":\"2032\"},\"x_scale\":{\"id\":\"2036\"},\"y_range\":{\"id\":\"2034\"},\"y_scale\":{\"id\":\"2038\"}},\"id\":\"2029\",\"subtype\":\"Figure\",\"type\":\"Plot\"},{\"attributes\":{\"line_alpha\":0.1,\"line_color\":\"#1f77b4\",\"line_width\":2,\"x\":{\"field\":\"__x__values\"},\"y\":{\"field\":\"Open\"}},\"id\":\"2065\",\"type\":\"Line\"},{\"attributes\":{\"base\":24,\"mantissas\":[1,2,4,6,8,12],\"max_interval\":43200000.0,\"min_interval\":3600000.0,\"num_minor_ticks\":0},\"id\":\"2081\",\"type\":\"AdaptiveTicker\"},{\"attributes\":{\"axis\":{\"id\":\"2040\"},\"coordinates\":null,\"group\":null,\"ticker\":null},\"id\":\"2043\",\"type\":\"Grid\"},{\"attributes\":{\"num_minor_ticks\":5,\"tickers\":[{\"id\":\"2079\"},{\"id\":\"2080\"},{\"id\":\"2081\"},{\"id\":\"2082\"},{\"id\":\"2083\"},{\"id\":\"2084\"},{\"id\":\"2085\"},{\"id\":\"2086\"},{\"id\":\"2087\"},{\"id\":\"2088\"},{\"id\":\"2089\"},{\"id\":\"2090\"}]},\"id\":\"2041\",\"type\":\"DatetimeTicker\"},{\"attributes\":{\"label\":{\"value\":\" Open\"},\"renderers\":[{\"id\":\"2067\"}]},\"id\":\"2092\",\"type\":\"LegendItem\"},{\"attributes\":{\"line_color\":\"#1f77b4\",\"line_width\":2,\"x\":{\"field\":\"__x__values\"},\"y\":{\"field\":\"Open\"}},\"id\":\"2064\",\"type\":\"Line\"},{\"attributes\":{},\"id\":\"2071\",\"type\":\"BasicTickFormatter\"},{\"attributes\":{},\"id\":\"2072\",\"type\":\"AllLabels\"},{\"attributes\":{},\"id\":\"2075\",\"type\":\"AllLabels\"},{\"attributes\":{},\"id\":\"2076\",\"type\":\"UnionRenderers\"},{\"attributes\":{\"click_policy\":\"hide\",\"coordinates\":null,\"group\":null,\"items\":[{\"id\":\"2092\"},{\"id\":\"2126\"},{\"id\":\"2162\"},{\"id\":\"2200\"}]},\"id\":\"2091\",\"type\":\"Legend\"},{\"attributes\":{},\"id\":\"2077\",\"type\":\"Selection\"},{\"attributes\":{\"data\":{\"Close\":{\"__ndarray__\":\"ytFOkzp9BD8sW5DSEWUEP+ZCHwtVWgQ/alATAXduBD9qUBMBd24EP/+j4yhIhQQ/7V0H95iCBD8rU4ol/osEP7BohMgzeQQ/hLndy31yBD+XB8CqQE4EP6AqrkOYTwQ/YzUrFTNGBD/Dtman9lQEP6lNnNzvUAQ/oCquQ5hPBD/4iPs8BF0EP9X8QtmlVwQ/72UNpKxbBD8L190bxzgEP87hWu1hLwQ/J0iuk+EVBD+rVaKJAyoEPwK074JvNwQ/vJt+u7IsBD90ewdH4kgEP8zZVEBOVgQ/+Ij7PARdBD99nvXfOUoEP5cHwKpATgQ/6EoluGgzBD9JzGBKLEIEPwvX3RvHOAQ/q1WiiQMqBD+rVaKJAyoEPxYC0mEyEwQ/f6b7jE0jBD8WAtJhMhMEP2U9McJGHwQ/doMN9PUhBD8L190bxzgEP76jhGjGBQQ/4S89zCQLBD8P5+l17uoDPwbE+9yW6QM/YCpPgxbQAz8R7+8iAsQDPyI1zFSxxgM/K1i67QjIAz/S8WZHieEDPwjMAYqqwgM/wrOQwu23Az9O5HJRZ80DPzR7qIZgyQM/g7YH53TVAz/jN0N5OOQDPxgK2A5G7AM/lPzjGCTYAz+K0e/SuP0DP1X/Wj2r9QM/\",\"dtype\":\"float64\",\"order\":\"little\",\"shape\":[60]},\"High\":{\"__ndarray__\":\"GQ2u806JBD/K0U6TOn0EP3uW7zImcQQ/c3MBms5vBD+5i3Jhi3oEPxDqv1r3hwQ/i9TFt8GaBD8rU4ol/osEPzyZZletjgQ/3Bcrxel/BD+W/7n9LHUEP8O2Zqf2VAQ/1fxC2aVXBD/V/ELZpVcEP/iI+zwEXQQ/5kIfC1VaBD/4iPs8BF0EP/iI+zwEXQQ/+Ij7PARdBD/vZQ2krFsEPx0duk12OwQ/6EoluGgzBD+rVaKJAyoEPwvX3RvHOAQ/N4aEGH0/BD+XB8CqQE4EP/iI+zwEXQQ/+Ij7PARdBD8BrOnVW14EP9X8QtmlVwQ/snCKdUdSBD90ewdH4kgEP0nMYEosQgQ/JkCo5s08BD/O4VrtYS8EP7ybfruyLAQ/q1WiiQMqBD/O4VrtYS8EP4jJ6SWlJAQ/zuFa7WEvBD9aEj1820QEPx0duk12OwQ/doMN9PUhBD/8mAeXKw8EP5sXzARoAAQ/D+fpde7qAz/9oA1EP+gDP2hNPRxu0QM/NHuohmDJAz8pULRA9e4DP/V9H6vn5gM/Ee/vIgLEAz+U/OMYJNgDP50f0rF72QM/lPzjGCTYAz8yc6LZTPADPzuWkHKk8QM/KVC0QPXuAz+K0e/SuP0DP8fGcgEeBwQ/\",\"dtype\":\"float64\",\"order\":\"little\",\"shape\":[60]},\"Low\":{\"__ndarray__\":\"e5bvMiZxBD/mQh8LVVoEP94fMXL9WAQ/hsHjeJFLBD9YCjfPx2sEPyxbkNIRZQQ/5ToZXkGBBD+N3Mtk1XMEP54iqJaEdgQ/PqFsBMFnBD99nvXfOUoEPxT6y7QeOgQ/N4aEGH0/BD9jNSsVM0YEP6AqrkOYTwQ/bFgZropHBD90ewdH4kgEP7uTeA6fUwQ/lwfAqkBOBD8CtO+CbzcEP21gH1ueIAQ//JgHlysPBD8WAtJhMhMEP3aDDfT1IQQ/q1WiiQMqBD92gw309SEEP2xYGa6KRwQ/w7Zmp/ZUBD9AqXKx1EAEP2M1KxUzRgQ/zuFa7WEvBD/XBEmGuTAEP/qQAeoXNgQ/ojK08KsoBD+R7Ne+/CUEPwS89S+DEAQ/vqOEaMYFBD8N3+PI2hEEP/yYB5crDwQ/QrF4XugZBD9tYB9bniAEP5sXzARoAAQ/b2glCLL5Az/1fR+r5+YDP9LxZkeJ4QM//6gT8VLBAz+WBOrFN7EDPwjMAYqqwgM/GhLeu1nFAz8iNcxUscYDPwjMAYqqwgM/R8mKZSOlAz/Cs5DC7bcDP9P5bPScugM/CMwBiqrCAz9oTT0cbtEDP9LxZkeJ4QM/RcGEuA/MAz9oTT0cbtEDP0S5fgv88gM/\",\"dtype\":\"float64\",\"order\":\"little\",\"shape\":[60]},\"Open\":{\"__ndarray__\":\"p0WWL9x3BD/K0U6TOn0EPyxbkNIRZQQ/5kIfC1VaBD9zcwGazm8EP3NzAZrObwQ/CMfRwZ+GBD/tXQf3mIIEPyIwnIymigQ/uYtyYYt6BD+Eud3LfXIEP5cHwKpATgQ/oCquQ5hPBD9sWBmuikcEP8zZVEBOVgQ/oCquQ5hPBD+gKq5DmE8EP+9lDaSsWwQ/1fxC2aVXBD/mQh8LVVoEPwvX3RvHOAQ/zuFa7WEvBD8nSK6T4RUEP6tVookDKgQ/ArTvgm83BD+0eJAiWysEP3R7B0fiSAQ/zNlUQE5WBD/4iPs8BF0EP32e9d85SgQ/lwfAqkBOBD/xbRNRwDQEP0nMYEosQgQ/C9fdG8c4BD+0eJAiWysEP6IytPCrKAQ/FgLSYTITBD9/pvuMTSMEPw3f48jaEQQ/bWAfW54gBD92gw309SEEPwvX3RvHOAQ/vqOEaMYFBD/hLz3MJAsEPw/n6XXu6gM/D+fpde7qAz9xcCu1xdIDPxHv7yICxAM/GhLeu1nFAz8iNcxUscYDP9LxZkeJ4QM/Ee/vIgLEAz/Cs5DC7bcDP2AqT4MW0AM/NHuohmDJAz96kxlOHdQDP+M3Q3k45AM/IC3Gp53tAz+L2fV/zNYDP5L03WsQ/wM/\",\"dtype\":\"float64\",\"order\":\"little\",\"shape\":[60]},\"__x__values\":{\"__ndarray__\":\"AAAQIGXLd0IAALYuZct3QgAAXD1ly3dCAAACTGXLd0IAAKhaZct3QgAATmlly3dCAAD0d2XLd0IAAJqGZct3QgAAQJVly3dCAADmo2XLd0IAAIyyZct3QgAAMsFly3dCAADYz2XLd0IAAH7eZct3QgAAJO1ly3dCAADK+2XLd0IAAHAKZst3QgAAFhlmy3dCAAC8J2bLd0IAAGI2Zst3QgAACEVmy3dCAACuU2bLd0IAAFRiZst3QgAA+nBmy3dCAACgf2bLd0IAAEaOZst3QgAA7Jxmy3dCAACSq2bLd0IAADi6Zst3QgAA3shmy3dCAACE12bLd0IAACrmZst3QgAA0PRmy3dCAAB2A2fLd0IAABwSZ8t3QgAAwiBny3dCAABoL2fLd0IAAA4+Z8t3QgAAtExny3dCAABaW2fLd0IAAABqZ8t3QgAApnhny3dCAABMh2fLd0IAAPKVZ8t3QgAAmKRny3dCAAA+s2fLd0IAAOTBZ8t3QgAAitBny3dCAAAw32fLd0IAANbtZ8t3QgAAfPxny3dCAAAiC2jLd0IAAMgZaMt3QgAAbihoy3dCAAAUN2jLd0IAALpFaMt3QgAAYFRoy3dCAAAGY2jLd0IAAKxxaMt3QgAAUoBoy3dC\",\"dtype\":\"float64\",\"order\":\"little\",\"shape\":[60]},\"__x__values_original\":{\"__ndarray__\":\"AAAQIGXLd0IAALYuZct3QgAAXD1ly3dCAAACTGXLd0IAAKhaZct3QgAATmlly3dCAAD0d2XLd0IAAJqGZct3QgAAQJVly3dCAADmo2XLd0IAAIyyZct3QgAAMsFly3dCAADYz2XLd0IAAH7eZct3QgAAJO1ly3dCAADK+2XLd0IAAHAKZst3QgAAFhlmy3dCAAC8J2bLd0IAAGI2Zst3QgAACEVmy3dCAACuU2bLd0IAAFRiZst3QgAA+nBmy3dCAACgf2bLd0IAAEaOZst3QgAA7Jxmy3dCAACSq2bLd0IAADi6Zst3QgAA3shmy3dCAACE12bLd0IAACrmZst3QgAA0PRmy3dCAAB2A2fLd0IAABwSZ8t3QgAAwiBny3dCAABoL2fLd0IAAA4+Z8t3QgAAtExny3dCAABaW2fLd0IAAABqZ8t3QgAApnhny3dCAABMh2fLd0IAAPKVZ8t3QgAAmKRny3dCAAA+s2fLd0IAAOTBZ8t3QgAAitBny3dCAAAw32fLd0IAANbtZ8t3QgAAfPxny3dCAAAiC2jLd0IAAMgZaMt3QgAAbihoy3dCAAAUN2jLd0IAALpFaMt3QgAAYFRoy3dCAAAGY2jLd0IAAKxxaMt3QgAAUoBoy3dC\",\"dtype\":\"float64\",\"order\":\"little\",\"shape\":[60]}},\"selected\":{\"id\":\"2077\"},\"selection_policy\":{\"id\":\"2076\"}},\"id\":\"2062\",\"type\":\"ColumnDataSource\"},{\"attributes\":{\"line_alpha\":0.2,\"line_color\":\"#1f77b4\",\"line_width\":2,\"x\":{\"field\":\"__x__values\"},\"y\":{\"field\":\"Open\"}},\"id\":\"2066\",\"type\":\"Line\"},{\"attributes\":{\"mantissas\":[1,2,5],\"max_interval\":500.0,\"num_minor_ticks\":0},\"id\":\"2079\",\"type\":\"AdaptiveTicker\"},{\"attributes\":{\"coordinates\":null,\"data_source\":{\"id\":\"2062\"},\"glyph\":{\"id\":\"2064\"},\"group\":null,\"hover_glyph\":null,\"muted_glyph\":{\"id\":\"2066\"},\"nonselection_glyph\":{\"id\":\"2065\"},\"view\":{\"id\":\"2068\"}},\"id\":\"2067\",\"type\":\"GlyphRenderer\"},{\"attributes\":{\"months\":[0,1,2,3,4,5,6,7,8,9,10,11]},\"id\":\"2086\",\"type\":\"MonthsTicker\"},{\"attributes\":{},\"id\":\"2090\",\"type\":\"YearsTicker\"},{\"attributes\":{\"days\":[1,15]},\"id\":\"2085\",\"type\":\"DaysTicker\"},{\"attributes\":{\"days\":[1,2,3,4,5,6,7,8,9,10,11,12,13,14,15,16,17,18,19,20,21,22,23,24,25,26,27,28,29,30,31]},\"id\":\"2082\",\"type\":\"DaysTicker\"},{\"attributes\":{\"days\":[1,4,7,10,13,16,19,22,25,28]},\"id\":\"2083\",\"type\":\"DaysTicker\"},{\"attributes\":{\"days\":[1,8,15,22]},\"id\":\"2084\",\"type\":\"DaysTicker\"},{\"attributes\":{\"months\":[0,6]},\"id\":\"2089\",\"type\":\"MonthsTicker\"},{\"attributes\":{\"months\":[0,2,4,6,8,10]},\"id\":\"2087\",\"type\":\"MonthsTicker\"},{\"attributes\":{\"base\":60,\"mantissas\":[1,2,5,10,15,20,30],\"max_interval\":1800000.0,\"min_interval\":1000.0,\"num_minor_ticks\":0},\"id\":\"2080\",\"type\":\"AdaptiveTicker\"},{\"attributes\":{\"months\":[0,4,8]},\"id\":\"2088\",\"type\":\"MonthsTicker\"},{\"attributes\":{\"coordinates\":null,\"formatter\":{\"id\":\"2071\"},\"group\":null,\"major_label_policy\":{\"id\":\"2072\"},\"ticker\":{\"id\":\"2045\"}},\"id\":\"2044\",\"type\":\"LinearAxis\"},{\"attributes\":{\"source\":{\"id\":\"2062\"}},\"id\":\"2068\",\"type\":\"CDSView\"},{\"attributes\":{},\"id\":\"2045\",\"type\":\"BasicTicker\"},{\"attributes\":{\"axis_label\":\"Time\",\"coordinates\":null,\"formatter\":{\"id\":\"2203\"},\"group\":null,\"major_label_policy\":{\"id\":\"2075\"},\"ticker\":{\"id\":\"2041\"}},\"id\":\"2040\",\"type\":\"DatetimeAxis\"},{\"attributes\":{},\"id\":\"2053\",\"type\":\"HelpTool\"},{\"attributes\":{\"data\":{\"Close\":{\"__ndarray__\":\"ytFOkzp9BD8sW5DSEWUEP+ZCHwtVWgQ/alATAXduBD9qUBMBd24EP/+j4yhIhQQ/7V0H95iCBD8rU4ol/osEP7BohMgzeQQ/hLndy31yBD+XB8CqQE4EP6AqrkOYTwQ/YzUrFTNGBD/Dtman9lQEP6lNnNzvUAQ/oCquQ5hPBD/4iPs8BF0EP9X8QtmlVwQ/72UNpKxbBD8L190bxzgEP87hWu1hLwQ/J0iuk+EVBD+rVaKJAyoEPwK074JvNwQ/vJt+u7IsBD90ewdH4kgEP8zZVEBOVgQ/+Ij7PARdBD99nvXfOUoEP5cHwKpATgQ/6EoluGgzBD9JzGBKLEIEPwvX3RvHOAQ/q1WiiQMqBD+rVaKJAyoEPxYC0mEyEwQ/f6b7jE0jBD8WAtJhMhMEP2U9McJGHwQ/doMN9PUhBD8L190bxzgEP76jhGjGBQQ/4S89zCQLBD8P5+l17uoDPwbE+9yW6QM/YCpPgxbQAz8R7+8iAsQDPyI1zFSxxgM/K1i67QjIAz/S8WZHieEDPwjMAYqqwgM/wrOQwu23Az9O5HJRZ80DPzR7qIZgyQM/g7YH53TVAz/jN0N5OOQDPxgK2A5G7AM/lPzjGCTYAz+K0e/SuP0DP1X/Wj2r9QM/\",\"dtype\":\"float64\",\"order\":\"little\",\"shape\":[60]},\"High\":{\"__ndarray__\":\"GQ2u806JBD/K0U6TOn0EP3uW7zImcQQ/c3MBms5vBD+5i3Jhi3oEPxDqv1r3hwQ/i9TFt8GaBD8rU4ol/osEPzyZZletjgQ/3Bcrxel/BD+W/7n9LHUEP8O2Zqf2VAQ/1fxC2aVXBD/V/ELZpVcEP/iI+zwEXQQ/5kIfC1VaBD/4iPs8BF0EP/iI+zwEXQQ/+Ij7PARdBD/vZQ2krFsEPx0duk12OwQ/6EoluGgzBD+rVaKJAyoEPwvX3RvHOAQ/N4aEGH0/BD+XB8CqQE4EP/iI+zwEXQQ/+Ij7PARdBD8BrOnVW14EP9X8QtmlVwQ/snCKdUdSBD90ewdH4kgEP0nMYEosQgQ/JkCo5s08BD/O4VrtYS8EP7ybfruyLAQ/q1WiiQMqBD/O4VrtYS8EP4jJ6SWlJAQ/zuFa7WEvBD9aEj1820QEPx0duk12OwQ/doMN9PUhBD/8mAeXKw8EP5sXzARoAAQ/D+fpde7qAz/9oA1EP+gDP2hNPRxu0QM/NHuohmDJAz8pULRA9e4DP/V9H6vn5gM/Ee/vIgLEAz+U/OMYJNgDP50f0rF72QM/lPzjGCTYAz8yc6LZTPADPzuWkHKk8QM/KVC0QPXuAz+K0e/SuP0DP8fGcgEeBwQ/\",\"dtype\":\"float64\",\"order\":\"little\",\"shape\":[60]},\"Low\":{\"__ndarray__\":\"e5bvMiZxBD/mQh8LVVoEP94fMXL9WAQ/hsHjeJFLBD9YCjfPx2sEPyxbkNIRZQQ/5ToZXkGBBD+N3Mtk1XMEP54iqJaEdgQ/PqFsBMFnBD99nvXfOUoEPxT6y7QeOgQ/N4aEGH0/BD9jNSsVM0YEP6AqrkOYTwQ/bFgZropHBD90ewdH4kgEP7uTeA6fUwQ/lwfAqkBOBD8CtO+CbzcEP21gH1ueIAQ//JgHlysPBD8WAtJhMhMEP3aDDfT1IQQ/q1WiiQMqBD92gw309SEEP2xYGa6KRwQ/w7Zmp/ZUBD9AqXKx1EAEP2M1KxUzRgQ/zuFa7WEvBD/XBEmGuTAEP/qQAeoXNgQ/ojK08KsoBD+R7Ne+/CUEPwS89S+DEAQ/vqOEaMYFBD8N3+PI2hEEP/yYB5crDwQ/QrF4XugZBD9tYB9bniAEP5sXzARoAAQ/b2glCLL5Az/1fR+r5+YDP9LxZkeJ4QM//6gT8VLBAz+WBOrFN7EDPwjMAYqqwgM/GhLeu1nFAz8iNcxUscYDPwjMAYqqwgM/R8mKZSOlAz/Cs5DC7bcDP9P5bPScugM/CMwBiqrCAz9oTT0cbtEDP9LxZkeJ4QM/RcGEuA/MAz9oTT0cbtEDP0S5fgv88gM/\",\"dtype\":\"float64\",\"order\":\"little\",\"shape\":[60]},\"Open\":{\"__ndarray__\":\"p0WWL9x3BD/K0U6TOn0EPyxbkNIRZQQ/5kIfC1VaBD9zcwGazm8EP3NzAZrObwQ/CMfRwZ+GBD/tXQf3mIIEPyIwnIymigQ/uYtyYYt6BD+Eud3LfXIEP5cHwKpATgQ/oCquQ5hPBD9sWBmuikcEP8zZVEBOVgQ/oCquQ5hPBD+gKq5DmE8EP+9lDaSsWwQ/1fxC2aVXBD/mQh8LVVoEPwvX3RvHOAQ/zuFa7WEvBD8nSK6T4RUEP6tVookDKgQ/ArTvgm83BD+0eJAiWysEP3R7B0fiSAQ/zNlUQE5WBD/4iPs8BF0EP32e9d85SgQ/lwfAqkBOBD/xbRNRwDQEP0nMYEosQgQ/C9fdG8c4BD+0eJAiWysEP6IytPCrKAQ/FgLSYTITBD9/pvuMTSMEPw3f48jaEQQ/bWAfW54gBD92gw309SEEPwvX3RvHOAQ/vqOEaMYFBD/hLz3MJAsEPw/n6XXu6gM/D+fpde7qAz9xcCu1xdIDPxHv7yICxAM/GhLeu1nFAz8iNcxUscYDP9LxZkeJ4QM/Ee/vIgLEAz/Cs5DC7bcDP2AqT4MW0AM/NHuohmDJAz96kxlOHdQDP+M3Q3k45AM/IC3Gp53tAz+L2fV/zNYDP5L03WsQ/wM/\",\"dtype\":\"float64\",\"order\":\"little\",\"shape\":[60]},\"__x__values\":{\"__ndarray__\":\"AAAQIGXLd0IAALYuZct3QgAAXD1ly3dCAAACTGXLd0IAAKhaZct3QgAATmlly3dCAAD0d2XLd0IAAJqGZct3QgAAQJVly3dCAADmo2XLd0IAAIyyZct3QgAAMsFly3dCAADYz2XLd0IAAH7eZct3QgAAJO1ly3dCAADK+2XLd0IAAHAKZst3QgAAFhlmy3dCAAC8J2bLd0IAAGI2Zst3QgAACEVmy3dCAACuU2bLd0IAAFRiZst3QgAA+nBmy3dCAACgf2bLd0IAAEaOZst3QgAA7Jxmy3dCAACSq2bLd0IAADi6Zst3QgAA3shmy3dCAACE12bLd0IAACrmZst3QgAA0PRmy3dCAAB2A2fLd0IAABwSZ8t3QgAAwiBny3dCAABoL2fLd0IAAA4+Z8t3QgAAtExny3dCAABaW2fLd0IAAABqZ8t3QgAApnhny3dCAABMh2fLd0IAAPKVZ8t3QgAAmKRny3dCAAA+s2fLd0IAAOTBZ8t3QgAAitBny3dCAAAw32fLd0IAANbtZ8t3QgAAfPxny3dCAAAiC2jLd0IAAMgZaMt3QgAAbihoy3dCAAAUN2jLd0IAALpFaMt3QgAAYFRoy3dCAAAGY2jLd0IAAKxxaMt3QgAAUoBoy3dC\",\"dtype\":\"float64\",\"order\":\"little\",\"shape\":[60]},\"__x__values_original\":{\"__ndarray__\":\"AAAQIGXLd0IAALYuZct3QgAAXD1ly3dCAAACTGXLd0IAAKhaZct3QgAATmlly3dCAAD0d2XLd0IAAJqGZct3QgAAQJVly3dCAADmo2XLd0IAAIyyZct3QgAAMsFly3dCAADYz2XLd0IAAH7eZct3QgAAJO1ly3dCAADK+2XLd0IAAHAKZst3QgAAFhlmy3dCAAC8J2bLd0IAAGI2Zst3QgAACEVmy3dCAACuU2bLd0IAAFRiZst3QgAA+nBmy3dCAACgf2bLd0IAAEaOZst3QgAA7Jxmy3dCAACSq2bLd0IAADi6Zst3QgAA3shmy3dCAACE12bLd0IAACrmZst3QgAA0PRmy3dCAAB2A2fLd0IAABwSZ8t3QgAAwiBny3dCAABoL2fLd0IAAA4+Z8t3QgAAtExny3dCAABaW2fLd0IAAABqZ8t3QgAApnhny3dCAABMh2fLd0IAAPKVZ8t3QgAAmKRny3dCAAA+s2fLd0IAAOTBZ8t3QgAAitBny3dCAAAw32fLd0IAANbtZ8t3QgAAfPxny3dCAAAiC2jLd0IAAMgZaMt3QgAAbihoy3dCAAAUN2jLd0IAALpFaMt3QgAAYFRoy3dCAAAGY2jLd0IAAKxxaMt3QgAAUoBoy3dC\",\"dtype\":\"float64\",\"order\":\"little\",\"shape\":[60]}},\"selected\":{\"id\":\"2148\"},\"selection_policy\":{\"id\":\"2147\"}},\"id\":\"2129\",\"type\":\"ColumnDataSource\"},{\"attributes\":{\"callback\":null,\"formatters\":{\"@__x__values_original\":\"datetime\"},\"mode\":\"vline\",\"renderers\":[{\"id\":\"2134\"}],\"tooltips\":[[\"Time\",\"@__x__values_original{%F}\"],[\"Low\",\"@{Low}\"]]},\"id\":\"2163\",\"type\":\"HoverTool\"},{\"attributes\":{\"line_alpha\":0.1,\"line_color\":\"#2ca02c\",\"line_width\":2,\"x\":{\"field\":\"__x__values\"},\"y\":{\"field\":\"Low\"}},\"id\":\"2132\",\"type\":\"Line\"},{\"attributes\":{\"axis\":{\"id\":\"2044\"},\"coordinates\":null,\"dimension\":1,\"group\":null,\"ticker\":null},\"id\":\"2047\",\"type\":\"Grid\"},{\"attributes\":{\"line_color\":\"#2ca02c\",\"line_width\":2,\"x\":{\"field\":\"__x__values\"},\"y\":{\"field\":\"Low\"}},\"id\":\"2131\",\"type\":\"Line\"},{\"attributes\":{\"line_alpha\":0.2,\"line_color\":\"#2ca02c\",\"line_width\":2,\"x\":{\"field\":\"__x__values\"},\"y\":{\"field\":\"Low\"}},\"id\":\"2133\",\"type\":\"Line\"},{\"attributes\":{\"source\":{\"id\":\"2129\"}},\"id\":\"2135\",\"type\":\"CDSView\"},{\"attributes\":{\"coordinates\":null,\"data_source\":{\"id\":\"2129\"},\"glyph\":{\"id\":\"2131\"},\"group\":null,\"hover_glyph\":null,\"muted_glyph\":{\"id\":\"2133\"},\"nonselection_glyph\":{\"id\":\"2132\"},\"view\":{\"id\":\"2135\"}},\"id\":\"2134\",\"type\":\"GlyphRenderer\"},{\"attributes\":{\"label\":{\"value\":\" Low\"},\"renderers\":[{\"id\":\"2134\"}]},\"id\":\"2162\",\"type\":\"LegendItem\"},{\"attributes\":{},\"id\":\"2049\",\"type\":\"WheelZoomTool\"},{\"attributes\":{},\"id\":\"2147\",\"type\":\"UnionRenderers\"},{\"attributes\":{},\"id\":\"2148\",\"type\":\"Selection\"},{\"attributes\":{},\"id\":\"2048\",\"type\":\"PanTool\"},{\"attributes\":{},\"id\":\"2038\",\"type\":\"LinearScale\"},{\"attributes\":{\"overlay\":{\"id\":\"2054\"}},\"id\":\"2050\",\"type\":\"BoxZoomTool\"},{\"attributes\":{},\"id\":\"2051\",\"type\":\"SaveTool\"},{\"attributes\":{},\"id\":\"2052\",\"type\":\"ResetTool\"},{\"attributes\":{\"active_scroll\":{\"id\":\"2049\"},\"tools\":[{\"id\":\"2048\"},{\"id\":\"2049\"},{\"id\":\"2050\"},{\"id\":\"2051\"},{\"id\":\"2052\"},{\"id\":\"2053\"},{\"id\":\"2093\"},{\"id\":\"2127\"},{\"id\":\"2163\"},{\"id\":\"2201\"}]},\"id\":\"2055\",\"type\":\"Toolbar\"},{\"attributes\":{\"callback\":null,\"formatters\":{\"@__x__values_original\":\"datetime\"},\"mode\":\"vline\",\"renderers\":[{\"id\":\"2067\"}],\"tooltips\":[[\"Time\",\"@__x__values_original{%F}\"],[\"Open\",\"@{Open}\"]]},\"id\":\"2093\",\"type\":\"HoverTool\"},{\"attributes\":{\"data\":{\"Close\":{\"__ndarray__\":\"ytFOkzp9BD8sW5DSEWUEP+ZCHwtVWgQ/alATAXduBD9qUBMBd24EP/+j4yhIhQQ/7V0H95iCBD8rU4ol/osEP7BohMgzeQQ/hLndy31yBD+XB8CqQE4EP6AqrkOYTwQ/YzUrFTNGBD/Dtman9lQEP6lNnNzvUAQ/oCquQ5hPBD/4iPs8BF0EP9X8QtmlVwQ/72UNpKxbBD8L190bxzgEP87hWu1hLwQ/J0iuk+EVBD+rVaKJAyoEPwK074JvNwQ/vJt+u7IsBD90ewdH4kgEP8zZVEBOVgQ/+Ij7PARdBD99nvXfOUoEP5cHwKpATgQ/6EoluGgzBD9JzGBKLEIEPwvX3RvHOAQ/q1WiiQMqBD+rVaKJAyoEPxYC0mEyEwQ/f6b7jE0jBD8WAtJhMhMEP2U9McJGHwQ/doMN9PUhBD8L190bxzgEP76jhGjGBQQ/4S89zCQLBD8P5+l17uoDPwbE+9yW6QM/YCpPgxbQAz8R7+8iAsQDPyI1zFSxxgM/K1i67QjIAz/S8WZHieEDPwjMAYqqwgM/wrOQwu23Az9O5HJRZ80DPzR7qIZgyQM/g7YH53TVAz/jN0N5OOQDPxgK2A5G7AM/lPzjGCTYAz+K0e/SuP0DP1X/Wj2r9QM/\",\"dtype\":\"float64\",\"order\":\"little\",\"shape\":[60]},\"High\":{\"__ndarray__\":\"GQ2u806JBD/K0U6TOn0EP3uW7zImcQQ/c3MBms5vBD+5i3Jhi3oEPxDqv1r3hwQ/i9TFt8GaBD8rU4ol/osEPzyZZletjgQ/3Bcrxel/BD+W/7n9LHUEP8O2Zqf2VAQ/1fxC2aVXBD/V/ELZpVcEP/iI+zwEXQQ/5kIfC1VaBD/4iPs8BF0EP/iI+zwEXQQ/+Ij7PARdBD/vZQ2krFsEPx0duk12OwQ/6EoluGgzBD+rVaKJAyoEPwvX3RvHOAQ/N4aEGH0/BD+XB8CqQE4EP/iI+zwEXQQ/+Ij7PARdBD8BrOnVW14EP9X8QtmlVwQ/snCKdUdSBD90ewdH4kgEP0nMYEosQgQ/JkCo5s08BD/O4VrtYS8EP7ybfruyLAQ/q1WiiQMqBD/O4VrtYS8EP4jJ6SWlJAQ/zuFa7WEvBD9aEj1820QEPx0duk12OwQ/doMN9PUhBD/8mAeXKw8EP5sXzARoAAQ/D+fpde7qAz/9oA1EP+gDP2hNPRxu0QM/NHuohmDJAz8pULRA9e4DP/V9H6vn5gM/Ee/vIgLEAz+U/OMYJNgDP50f0rF72QM/lPzjGCTYAz8yc6LZTPADPzuWkHKk8QM/KVC0QPXuAz+K0e/SuP0DP8fGcgEeBwQ/\",\"dtype\":\"float64\",\"order\":\"little\",\"shape\":[60]},\"Low\":{\"__ndarray__\":\"e5bvMiZxBD/mQh8LVVoEP94fMXL9WAQ/hsHjeJFLBD9YCjfPx2sEPyxbkNIRZQQ/5ToZXkGBBD+N3Mtk1XMEP54iqJaEdgQ/PqFsBMFnBD99nvXfOUoEPxT6y7QeOgQ/N4aEGH0/BD9jNSsVM0YEP6AqrkOYTwQ/bFgZropHBD90ewdH4kgEP7uTeA6fUwQ/lwfAqkBOBD8CtO+CbzcEP21gH1ueIAQ//JgHlysPBD8WAtJhMhMEP3aDDfT1IQQ/q1WiiQMqBD92gw309SEEP2xYGa6KRwQ/w7Zmp/ZUBD9AqXKx1EAEP2M1KxUzRgQ/zuFa7WEvBD/XBEmGuTAEP/qQAeoXNgQ/ojK08KsoBD+R7Ne+/CUEPwS89S+DEAQ/vqOEaMYFBD8N3+PI2hEEP/yYB5crDwQ/QrF4XugZBD9tYB9bniAEP5sXzARoAAQ/b2glCLL5Az/1fR+r5+YDP9LxZkeJ4QM//6gT8VLBAz+WBOrFN7EDPwjMAYqqwgM/GhLeu1nFAz8iNcxUscYDPwjMAYqqwgM/R8mKZSOlAz/Cs5DC7bcDP9P5bPScugM/CMwBiqrCAz9oTT0cbtEDP9LxZkeJ4QM/RcGEuA/MAz9oTT0cbtEDP0S5fgv88gM/\",\"dtype\":\"float64\",\"order\":\"little\",\"shape\":[60]},\"Open\":{\"__ndarray__\":\"p0WWL9x3BD/K0U6TOn0EPyxbkNIRZQQ/5kIfC1VaBD9zcwGazm8EP3NzAZrObwQ/CMfRwZ+GBD/tXQf3mIIEPyIwnIymigQ/uYtyYYt6BD+Eud3LfXIEP5cHwKpATgQ/oCquQ5hPBD9sWBmuikcEP8zZVEBOVgQ/oCquQ5hPBD+gKq5DmE8EP+9lDaSsWwQ/1fxC2aVXBD/mQh8LVVoEPwvX3RvHOAQ/zuFa7WEvBD8nSK6T4RUEP6tVookDKgQ/ArTvgm83BD+0eJAiWysEP3R7B0fiSAQ/zNlUQE5WBD/4iPs8BF0EP32e9d85SgQ/lwfAqkBOBD/xbRNRwDQEP0nMYEosQgQ/C9fdG8c4BD+0eJAiWysEP6IytPCrKAQ/FgLSYTITBD9/pvuMTSMEPw3f48jaEQQ/bWAfW54gBD92gw309SEEPwvX3RvHOAQ/vqOEaMYFBD/hLz3MJAsEPw/n6XXu6gM/D+fpde7qAz9xcCu1xdIDPxHv7yICxAM/GhLeu1nFAz8iNcxUscYDP9LxZkeJ4QM/Ee/vIgLEAz/Cs5DC7bcDP2AqT4MW0AM/NHuohmDJAz96kxlOHdQDP+M3Q3k45AM/IC3Gp53tAz+L2fV/zNYDP5L03WsQ/wM/\",\"dtype\":\"float64\",\"order\":\"little\",\"shape\":[60]},\"__x__values\":{\"__ndarray__\":\"AAAQIGXLd0IAALYuZct3QgAAXD1ly3dCAAACTGXLd0IAAKhaZct3QgAATmlly3dCAAD0d2XLd0IAAJqGZct3QgAAQJVly3dCAADmo2XLd0IAAIyyZct3QgAAMsFly3dCAADYz2XLd0IAAH7eZct3QgAAJO1ly3dCAADK+2XLd0IAAHAKZst3QgAAFhlmy3dCAAC8J2bLd0IAAGI2Zst3QgAACEVmy3dCAACuU2bLd0IAAFRiZst3QgAA+nBmy3dCAACgf2bLd0IAAEaOZst3QgAA7Jxmy3dCAACSq2bLd0IAADi6Zst3QgAA3shmy3dCAACE12bLd0IAACrmZst3QgAA0PRmy3dCAAB2A2fLd0IAABwSZ8t3QgAAwiBny3dCAABoL2fLd0IAAA4+Z8t3QgAAtExny3dCAABaW2fLd0IAAABqZ8t3QgAApnhny3dCAABMh2fLd0IAAPKVZ8t3QgAAmKRny3dCAAA+s2fLd0IAAOTBZ8t3QgAAitBny3dCAAAw32fLd0IAANbtZ8t3QgAAfPxny3dCAAAiC2jLd0IAAMgZaMt3QgAAbihoy3dCAAAUN2jLd0IAALpFaMt3QgAAYFRoy3dCAAAGY2jLd0IAAKxxaMt3QgAAUoBoy3dC\",\"dtype\":\"float64\",\"order\":\"little\",\"shape\":[60]},\"__x__values_original\":{\"__ndarray__\":\"AAAQIGXLd0IAALYuZct3QgAAXD1ly3dCAAACTGXLd0IAAKhaZct3QgAATmlly3dCAAD0d2XLd0IAAJqGZct3QgAAQJVly3dCAADmo2XLd0IAAIyyZct3QgAAMsFly3dCAADYz2XLd0IAAH7eZct3QgAAJO1ly3dCAADK+2XLd0IAAHAKZst3QgAAFhlmy3dCAAC8J2bLd0IAAGI2Zst3QgAACEVmy3dCAACuU2bLd0IAAFRiZst3QgAA+nBmy3dCAACgf2bLd0IAAEaOZst3QgAA7Jxmy3dCAACSq2bLd0IAADi6Zst3QgAA3shmy3dCAACE12bLd0IAACrmZst3QgAA0PRmy3dCAAB2A2fLd0IAABwSZ8t3QgAAwiBny3dCAABoL2fLd0IAAA4+Z8t3QgAAtExny3dCAABaW2fLd0IAAABqZ8t3QgAApnhny3dCAABMh2fLd0IAAPKVZ8t3QgAAmKRny3dCAAA+s2fLd0IAAOTBZ8t3QgAAitBny3dCAAAw32fLd0IAANbtZ8t3QgAAfPxny3dCAAAiC2jLd0IAAMgZaMt3QgAAbihoy3dCAAAUN2jLd0IAALpFaMt3QgAAYFRoy3dCAAAGY2jLd0IAAKxxaMt3QgAAUoBoy3dC\",\"dtype\":\"float64\",\"order\":\"little\",\"shape\":[60]}},\"selected\":{\"id\":\"2112\"},\"selection_policy\":{\"id\":\"2111\"}},\"id\":\"2095\",\"type\":\"ColumnDataSource\"},{\"attributes\":{\"line_color\":\"#ff7f0e\",\"line_width\":2,\"x\":{\"field\":\"__x__values\"},\"y\":{\"field\":\"High\"}},\"id\":\"2097\",\"type\":\"Line\"},{\"attributes\":{\"line_alpha\":0.1,\"line_color\":\"#ff7f0e\",\"line_width\":2,\"x\":{\"field\":\"__x__values\"},\"y\":{\"field\":\"High\"}},\"id\":\"2098\",\"type\":\"Line\"},{\"attributes\":{\"callback\":null,\"formatters\":{\"@__x__values_original\":\"datetime\"},\"mode\":\"vline\",\"renderers\":[{\"id\":\"2100\"}],\"tooltips\":[[\"Time\",\"@__x__values_original{%F}\"],[\"High\",\"@{High}\"]]},\"id\":\"2127\",\"type\":\"HoverTool\"},{\"attributes\":{\"line_alpha\":0.2,\"line_color\":\"#ff7f0e\",\"line_width\":2,\"x\":{\"field\":\"__x__values\"},\"y\":{\"field\":\"High\"}},\"id\":\"2099\",\"type\":\"Line\"},{\"attributes\":{\"source\":{\"id\":\"2095\"}},\"id\":\"2101\",\"type\":\"CDSView\"},{\"attributes\":{\"coordinates\":null,\"data_source\":{\"id\":\"2095\"},\"glyph\":{\"id\":\"2097\"},\"group\":null,\"hover_glyph\":null,\"muted_glyph\":{\"id\":\"2099\"},\"nonselection_glyph\":{\"id\":\"2098\"},\"view\":{\"id\":\"2101\"}},\"id\":\"2100\",\"type\":\"GlyphRenderer\"},{\"attributes\":{\"line_color\":\"#d62728\",\"line_width\":2,\"x\":{\"field\":\"__x__values\"},\"y\":{\"field\":\"Close\"}},\"id\":\"2167\",\"type\":\"Line\"},{\"attributes\":{\"label\":{\"value\":\" High\"},\"renderers\":[{\"id\":\"2100\"}]},\"id\":\"2126\",\"type\":\"LegendItem\"},{\"attributes\":{\"data\":{\"Close\":{\"__ndarray__\":\"ytFOkzp9BD8sW5DSEWUEP+ZCHwtVWgQ/alATAXduBD9qUBMBd24EP/+j4yhIhQQ/7V0H95iCBD8rU4ol/osEP7BohMgzeQQ/hLndy31yBD+XB8CqQE4EP6AqrkOYTwQ/YzUrFTNGBD/Dtman9lQEP6lNnNzvUAQ/oCquQ5hPBD/4iPs8BF0EP9X8QtmlVwQ/72UNpKxbBD8L190bxzgEP87hWu1hLwQ/J0iuk+EVBD+rVaKJAyoEPwK074JvNwQ/vJt+u7IsBD90ewdH4kgEP8zZVEBOVgQ/+Ij7PARdBD99nvXfOUoEP5cHwKpATgQ/6EoluGgzBD9JzGBKLEIEPwvX3RvHOAQ/q1WiiQMqBD+rVaKJAyoEPxYC0mEyEwQ/f6b7jE0jBD8WAtJhMhMEP2U9McJGHwQ/doMN9PUhBD8L190bxzgEP76jhGjGBQQ/4S89zCQLBD8P5+l17uoDPwbE+9yW6QM/YCpPgxbQAz8R7+8iAsQDPyI1zFSxxgM/K1i67QjIAz/S8WZHieEDPwjMAYqqwgM/wrOQwu23Az9O5HJRZ80DPzR7qIZgyQM/g7YH53TVAz/jN0N5OOQDPxgK2A5G7AM/lPzjGCTYAz+K0e/SuP0DP1X/Wj2r9QM/\",\"dtype\":\"float64\",\"order\":\"little\",\"shape\":[60]},\"High\":{\"__ndarray__\":\"GQ2u806JBD/K0U6TOn0EP3uW7zImcQQ/c3MBms5vBD+5i3Jhi3oEPxDqv1r3hwQ/i9TFt8GaBD8rU4ol/osEPzyZZletjgQ/3Bcrxel/BD+W/7n9LHUEP8O2Zqf2VAQ/1fxC2aVXBD/V/ELZpVcEP/iI+zwEXQQ/5kIfC1VaBD/4iPs8BF0EP/iI+zwEXQQ/+Ij7PARdBD/vZQ2krFsEPx0duk12OwQ/6EoluGgzBD+rVaKJAyoEPwvX3RvHOAQ/N4aEGH0/BD+XB8CqQE4EP/iI+zwEXQQ/+Ij7PARdBD8BrOnVW14EP9X8QtmlVwQ/snCKdUdSBD90ewdH4kgEP0nMYEosQgQ/JkCo5s08BD/O4VrtYS8EP7ybfruyLAQ/q1WiiQMqBD/O4VrtYS8EP4jJ6SWlJAQ/zuFa7WEvBD9aEj1820QEPx0duk12OwQ/doMN9PUhBD/8mAeXKw8EP5sXzARoAAQ/D+fpde7qAz/9oA1EP+gDP2hNPRxu0QM/NHuohmDJAz8pULRA9e4DP/V9H6vn5gM/Ee/vIgLEAz+U/OMYJNgDP50f0rF72QM/lPzjGCTYAz8yc6LZTPADPzuWkHKk8QM/KVC0QPXuAz+K0e/SuP0DP8fGcgEeBwQ/\",\"dtype\":\"float64\",\"order\":\"little\",\"shape\":[60]},\"Low\":{\"__ndarray__\":\"e5bvMiZxBD/mQh8LVVoEP94fMXL9WAQ/hsHjeJFLBD9YCjfPx2sEPyxbkNIRZQQ/5ToZXkGBBD+N3Mtk1XMEP54iqJaEdgQ/PqFsBMFnBD99nvXfOUoEPxT6y7QeOgQ/N4aEGH0/BD9jNSsVM0YEP6AqrkOYTwQ/bFgZropHBD90ewdH4kgEP7uTeA6fUwQ/lwfAqkBOBD8CtO+CbzcEP21gH1ueIAQ//JgHlysPBD8WAtJhMhMEP3aDDfT1IQQ/q1WiiQMqBD92gw309SEEP2xYGa6KRwQ/w7Zmp/ZUBD9AqXKx1EAEP2M1KxUzRgQ/zuFa7WEvBD/XBEmGuTAEP/qQAeoXNgQ/ojK08KsoBD+R7Ne+/CUEPwS89S+DEAQ/vqOEaMYFBD8N3+PI2hEEP/yYB5crDwQ/QrF4XugZBD9tYB9bniAEP5sXzARoAAQ/b2glCLL5Az/1fR+r5+YDP9LxZkeJ4QM//6gT8VLBAz+WBOrFN7EDPwjMAYqqwgM/GhLeu1nFAz8iNcxUscYDPwjMAYqqwgM/R8mKZSOlAz/Cs5DC7bcDP9P5bPScugM/CMwBiqrCAz9oTT0cbtEDP9LxZkeJ4QM/RcGEuA/MAz9oTT0cbtEDP0S5fgv88gM/\",\"dtype\":\"float64\",\"order\":\"little\",\"shape\":[60]},\"Open\":{\"__ndarray__\":\"p0WWL9x3BD/K0U6TOn0EPyxbkNIRZQQ/5kIfC1VaBD9zcwGazm8EP3NzAZrObwQ/CMfRwZ+GBD/tXQf3mIIEPyIwnIymigQ/uYtyYYt6BD+Eud3LfXIEP5cHwKpATgQ/oCquQ5hPBD9sWBmuikcEP8zZVEBOVgQ/oCquQ5hPBD+gKq5DmE8EP+9lDaSsWwQ/1fxC2aVXBD/mQh8LVVoEPwvX3RvHOAQ/zuFa7WEvBD8nSK6T4RUEP6tVookDKgQ/ArTvgm83BD+0eJAiWysEP3R7B0fiSAQ/zNlUQE5WBD/4iPs8BF0EP32e9d85SgQ/lwfAqkBOBD/xbRNRwDQEP0nMYEosQgQ/C9fdG8c4BD+0eJAiWysEP6IytPCrKAQ/FgLSYTITBD9/pvuMTSMEPw3f48jaEQQ/bWAfW54gBD92gw309SEEPwvX3RvHOAQ/vqOEaMYFBD/hLz3MJAsEPw/n6XXu6gM/D+fpde7qAz9xcCu1xdIDPxHv7yICxAM/GhLeu1nFAz8iNcxUscYDP9LxZkeJ4QM/Ee/vIgLEAz/Cs5DC7bcDP2AqT4MW0AM/NHuohmDJAz96kxlOHdQDP+M3Q3k45AM/IC3Gp53tAz+L2fV/zNYDP5L03WsQ/wM/\",\"dtype\":\"float64\",\"order\":\"little\",\"shape\":[60]},\"__x__values\":{\"__ndarray__\":\"AAAQIGXLd0IAALYuZct3QgAAXD1ly3dCAAACTGXLd0IAAKhaZct3QgAATmlly3dCAAD0d2XLd0IAAJqGZct3QgAAQJVly3dCAADmo2XLd0IAAIyyZct3QgAAMsFly3dCAADYz2XLd0IAAH7eZct3QgAAJO1ly3dCAADK+2XLd0IAAHAKZst3QgAAFhlmy3dCAAC8J2bLd0IAAGI2Zst3QgAACEVmy3dCAACuU2bLd0IAAFRiZst3QgAA+nBmy3dCAACgf2bLd0IAAEaOZst3QgAA7Jxmy3dCAACSq2bLd0IAADi6Zst3QgAA3shmy3dCAACE12bLd0IAACrmZst3QgAA0PRmy3dCAAB2A2fLd0IAABwSZ8t3QgAAwiBny3dCAABoL2fLd0IAAA4+Z8t3QgAAtExny3dCAABaW2fLd0IAAABqZ8t3QgAApnhny3dCAABMh2fLd0IAAPKVZ8t3QgAAmKRny3dCAAA+s2fLd0IAAOTBZ8t3QgAAitBny3dCAAAw32fLd0IAANbtZ8t3QgAAfPxny3dCAAAiC2jLd0IAAMgZaMt3QgAAbihoy3dCAAAUN2jLd0IAALpFaMt3QgAAYFRoy3dCAAAGY2jLd0IAAKxxaMt3QgAAUoBoy3dC\",\"dtype\":\"float64\",\"order\":\"little\",\"shape\":[60]},\"__x__values_original\":{\"__ndarray__\":\"AAAQIGXLd0IAALYuZct3QgAAXD1ly3dCAAACTGXLd0IAAKhaZct3QgAATmlly3dCAAD0d2XLd0IAAJqGZct3QgAAQJVly3dCAADmo2XLd0IAAIyyZct3QgAAMsFly3dCAADYz2XLd0IAAH7eZct3QgAAJO1ly3dCAADK+2XLd0IAAHAKZst3QgAAFhlmy3dCAAC8J2bLd0IAAGI2Zst3QgAACEVmy3dCAACuU2bLd0IAAFRiZst3QgAA+nBmy3dCAACgf2bLd0IAAEaOZst3QgAA7Jxmy3dCAACSq2bLd0IAADi6Zst3QgAA3shmy3dCAACE12bLd0IAACrmZst3QgAA0PRmy3dCAAB2A2fLd0IAABwSZ8t3QgAAwiBny3dCAABoL2fLd0IAAA4+Z8t3QgAAtExny3dCAABaW2fLd0IAAABqZ8t3QgAApnhny3dCAABMh2fLd0IAAPKVZ8t3QgAAmKRny3dCAAA+s2fLd0IAAOTBZ8t3QgAAitBny3dCAAAw32fLd0IAANbtZ8t3QgAAfPxny3dCAAAiC2jLd0IAAMgZaMt3QgAAbihoy3dCAAAUN2jLd0IAALpFaMt3QgAAYFRoy3dCAAAGY2jLd0IAAKxxaMt3QgAAUoBoy3dC\",\"dtype\":\"float64\",\"order\":\"little\",\"shape\":[60]}},\"selected\":{\"id\":\"2186\"},\"selection_policy\":{\"id\":\"2185\"}},\"id\":\"2165\",\"type\":\"ColumnDataSource\"},{\"attributes\":{\"bottom_units\":\"screen\",\"coordinates\":null,\"fill_alpha\":0.5,\"fill_color\":\"lightgrey\",\"group\":null,\"left_units\":\"screen\",\"level\":\"overlay\",\"line_alpha\":1.0,\"line_color\":\"black\",\"line_dash\":[4,4],\"line_width\":2,\"right_units\":\"screen\",\"syncable\":false,\"top_units\":\"screen\"},\"id\":\"2054\",\"type\":\"BoxAnnotation\"},{\"attributes\":{\"line_alpha\":0.1,\"line_color\":\"#d62728\",\"line_width\":2,\"x\":{\"field\":\"__x__values\"},\"y\":{\"field\":\"Close\"}},\"id\":\"2168\",\"type\":\"Line\"},{\"attributes\":{},\"id\":\"2036\",\"type\":\"LinearScale\"},{\"attributes\":{},\"id\":\"2111\",\"type\":\"UnionRenderers\"},{\"attributes\":{\"line_alpha\":0.2,\"line_color\":\"#d62728\",\"line_width\":2,\"x\":{\"field\":\"__x__values\"},\"y\":{\"field\":\"Close\"}},\"id\":\"2169\",\"type\":\"Line\"},{\"attributes\":{\"days\":[\"%d %B %Y\"],\"hours\":[\"%H:%M:%S\"],\"milliseconds\":[\"%H:%M:%S.%f\"],\"minutes\":[\"%H:%M:%S\"],\"months\":[\"%d %B %Y\"],\"seconds\":[\"%H:%M:%S\"],\"years\":[\"%d %B %Y\"]},\"id\":\"2203\",\"type\":\"DatetimeTickFormatter\"},{\"attributes\":{\"source\":{\"id\":\"2165\"}},\"id\":\"2171\",\"type\":\"CDSView\"},{\"attributes\":{\"coordinates\":null,\"group\":null},\"id\":\"2030\",\"type\":\"Title\"},{\"attributes\":{\"coordinates\":null,\"data_source\":{\"id\":\"2165\"},\"glyph\":{\"id\":\"2167\"},\"group\":null,\"hover_glyph\":null,\"muted_glyph\":{\"id\":\"2169\"},\"nonselection_glyph\":{\"id\":\"2168\"},\"view\":{\"id\":\"2171\"}},\"id\":\"2170\",\"type\":\"GlyphRenderer\"},{\"attributes\":{},\"id\":\"2112\",\"type\":\"Selection\"},{\"attributes\":{\"label\":{\"value\":\" Close\"},\"renderers\":[{\"id\":\"2170\"}]},\"id\":\"2200\",\"type\":\"LegendItem\"},{\"attributes\":{},\"id\":\"2034\",\"type\":\"DataRange1d\"},{\"attributes\":{\"callback\":null,\"formatters\":{\"@__x__values_original\":\"datetime\"},\"mode\":\"vline\",\"renderers\":[{\"id\":\"2170\"}],\"tooltips\":[[\"Time\",\"@__x__values_original{%F}\"],[\"Close\",\"@{Close}\"]]},\"id\":\"2201\",\"type\":\"HoverTool\"},{\"attributes\":{},\"id\":\"2185\",\"type\":\"UnionRenderers\"},{\"attributes\":{},\"id\":\"2186\",\"type\":\"Selection\"},{\"attributes\":{},\"id\":\"2032\",\"type\":\"DataRange1d\"}],\"root_ids\":[\"2029\"]},\"title\":\"Bokeh Application\",\"version\":\"2.4.1\"}};\n  const render_items = [{\"docid\":\"4b63f092-874e-4e0f-be5b-02e5a0487578\",\"root_ids\":[\"2029\"],\"roots\":{\"2029\":\"9af97f7b-e9e2-439c-affc-e0e0328f1bed\"}}];\n  root.Bokeh.embed.embed_items_notebook(docs_json, render_items);\n\n  }\n  if (root.Bokeh !== undefined) {\n    embed_document(root);\n  } else {\n    let attempts = 0;\n    const timer = setInterval(function(root) {\n      if (root.Bokeh !== undefined) {\n        clearInterval(timer);\n        embed_document(root);\n      } else {\n        attempts++;\n        if (attempts > 100) {\n          clearInterval(timer);\n          console.log(\"Bokeh: ERROR: Unable to run BokehJS code because BokehJS library is missing\");\n        }\n      }\n    }, 10, root)\n  }\n})(window);",
      "application/vnd.bokehjs_exec.v0+json": ""
     },
     "metadata": {
      "application/vnd.bokehjs_exec.v0+json": {
       "id": "2029"
      }
     },
     "output_type": "display_data"
    },
    {
     "data": {
      "text/html": [
       "<div style=\"display: table;\"><div style=\"display: table-row;\"><div style=\"display: table-cell;\"><b title=\"bokeh.plotting.figure.Figure\">Figure</b>(</div><div style=\"display: table-cell;\">id&nbsp;=&nbsp;'2029', <span id=\"2368\" style=\"cursor: pointer;\">&hellip;)</span></div></div><div class=\"2367\" style=\"display: none;\"><div style=\"display: table-cell;\"></div><div style=\"display: table-cell;\">above&nbsp;=&nbsp;[],</div></div><div class=\"2367\" style=\"display: none;\"><div style=\"display: table-cell;\"></div><div style=\"display: table-cell;\">align&nbsp;=&nbsp;'start',</div></div><div class=\"2367\" style=\"display: none;\"><div style=\"display: table-cell;\"></div><div style=\"display: table-cell;\">aspect_ratio&nbsp;=&nbsp;None,</div></div><div class=\"2367\" style=\"display: none;\"><div style=\"display: table-cell;\"></div><div style=\"display: table-cell;\">aspect_scale&nbsp;=&nbsp;1,</div></div><div class=\"2367\" style=\"display: none;\"><div style=\"display: table-cell;\"></div><div style=\"display: table-cell;\">background&nbsp;=&nbsp;None,</div></div><div class=\"2367\" style=\"display: none;\"><div style=\"display: table-cell;\"></div><div style=\"display: table-cell;\">background_fill_alpha&nbsp;=&nbsp;1.0,</div></div><div class=\"2367\" style=\"display: none;\"><div style=\"display: table-cell;\"></div><div style=\"display: table-cell;\">background_fill_color&nbsp;=&nbsp;'#ffffff',</div></div><div class=\"2367\" style=\"display: none;\"><div style=\"display: table-cell;\"></div><div style=\"display: table-cell;\">below&nbsp;=&nbsp;[DatetimeAxis(id='2040', ...)],</div></div><div class=\"2367\" style=\"display: none;\"><div style=\"display: table-cell;\"></div><div style=\"display: table-cell;\">border_fill_alpha&nbsp;=&nbsp;1.0,</div></div><div class=\"2367\" style=\"display: none;\"><div style=\"display: table-cell;\"></div><div style=\"display: table-cell;\">border_fill_color&nbsp;=&nbsp;'#ffffff',</div></div><div class=\"2367\" style=\"display: none;\"><div style=\"display: table-cell;\"></div><div style=\"display: table-cell;\">center&nbsp;=&nbsp;[Grid(id='2043', ...), Grid(id='2047', ...), Legend(id='2091', ...)],</div></div><div class=\"2367\" style=\"display: none;\"><div style=\"display: table-cell;\"></div><div style=\"display: table-cell;\">css_classes&nbsp;=&nbsp;[],</div></div><div class=\"2367\" style=\"display: none;\"><div style=\"display: table-cell;\"></div><div style=\"display: table-cell;\">disabled&nbsp;=&nbsp;False,</div></div><div class=\"2367\" style=\"display: none;\"><div style=\"display: table-cell;\"></div><div style=\"display: table-cell;\">extra_x_ranges&nbsp;=&nbsp;{},</div></div><div class=\"2367\" style=\"display: none;\"><div style=\"display: table-cell;\"></div><div style=\"display: table-cell;\">extra_x_scales&nbsp;=&nbsp;{},</div></div><div class=\"2367\" style=\"display: none;\"><div style=\"display: table-cell;\"></div><div style=\"display: table-cell;\">extra_y_ranges&nbsp;=&nbsp;{},</div></div><div class=\"2367\" style=\"display: none;\"><div style=\"display: table-cell;\"></div><div style=\"display: table-cell;\">extra_y_scales&nbsp;=&nbsp;{},</div></div><div class=\"2367\" style=\"display: none;\"><div style=\"display: table-cell;\"></div><div style=\"display: table-cell;\">frame_height&nbsp;=&nbsp;None,</div></div><div class=\"2367\" style=\"display: none;\"><div style=\"display: table-cell;\"></div><div style=\"display: table-cell;\">frame_width&nbsp;=&nbsp;None,</div></div><div class=\"2367\" style=\"display: none;\"><div style=\"display: table-cell;\"></div><div style=\"display: table-cell;\">height&nbsp;=&nbsp;400,</div></div><div class=\"2367\" style=\"display: none;\"><div style=\"display: table-cell;\"></div><div style=\"display: table-cell;\">height_policy&nbsp;=&nbsp;'auto',</div></div><div class=\"2367\" style=\"display: none;\"><div style=\"display: table-cell;\"></div><div style=\"display: table-cell;\">hidpi&nbsp;=&nbsp;True,</div></div><div class=\"2367\" style=\"display: none;\"><div style=\"display: table-cell;\"></div><div style=\"display: table-cell;\">inner_height&nbsp;=&nbsp;0,</div></div><div class=\"2367\" style=\"display: none;\"><div style=\"display: table-cell;\"></div><div style=\"display: table-cell;\">inner_width&nbsp;=&nbsp;0,</div></div><div class=\"2367\" style=\"display: none;\"><div style=\"display: table-cell;\"></div><div style=\"display: table-cell;\">js_event_callbacks&nbsp;=&nbsp;{},</div></div><div class=\"2367\" style=\"display: none;\"><div style=\"display: table-cell;\"></div><div style=\"display: table-cell;\">js_property_callbacks&nbsp;=&nbsp;{},</div></div><div class=\"2367\" style=\"display: none;\"><div style=\"display: table-cell;\"></div><div style=\"display: table-cell;\">left&nbsp;=&nbsp;[LinearAxis(id='2044', ...)],</div></div><div class=\"2367\" style=\"display: none;\"><div style=\"display: table-cell;\"></div><div style=\"display: table-cell;\">lod_factor&nbsp;=&nbsp;10,</div></div><div class=\"2367\" style=\"display: none;\"><div style=\"display: table-cell;\"></div><div style=\"display: table-cell;\">lod_interval&nbsp;=&nbsp;300,</div></div><div class=\"2367\" style=\"display: none;\"><div style=\"display: table-cell;\"></div><div style=\"display: table-cell;\">lod_threshold&nbsp;=&nbsp;2000,</div></div><div class=\"2367\" style=\"display: none;\"><div style=\"display: table-cell;\"></div><div style=\"display: table-cell;\">lod_timeout&nbsp;=&nbsp;500,</div></div><div class=\"2367\" style=\"display: none;\"><div style=\"display: table-cell;\"></div><div style=\"display: table-cell;\">margin&nbsp;=&nbsp;(0, 0, 0, 0),</div></div><div class=\"2367\" style=\"display: none;\"><div style=\"display: table-cell;\"></div><div style=\"display: table-cell;\">match_aspect&nbsp;=&nbsp;False,</div></div><div class=\"2367\" style=\"display: none;\"><div style=\"display: table-cell;\"></div><div style=\"display: table-cell;\">max_height&nbsp;=&nbsp;None,</div></div><div class=\"2367\" style=\"display: none;\"><div style=\"display: table-cell;\"></div><div style=\"display: table-cell;\">max_width&nbsp;=&nbsp;None,</div></div><div class=\"2367\" style=\"display: none;\"><div style=\"display: table-cell;\"></div><div style=\"display: table-cell;\">min_border&nbsp;=&nbsp;5,</div></div><div class=\"2367\" style=\"display: none;\"><div style=\"display: table-cell;\"></div><div style=\"display: table-cell;\">min_border_bottom&nbsp;=&nbsp;None,</div></div><div class=\"2367\" style=\"display: none;\"><div style=\"display: table-cell;\"></div><div style=\"display: table-cell;\">min_border_left&nbsp;=&nbsp;None,</div></div><div class=\"2367\" style=\"display: none;\"><div style=\"display: table-cell;\"></div><div style=\"display: table-cell;\">min_border_right&nbsp;=&nbsp;None,</div></div><div class=\"2367\" style=\"display: none;\"><div style=\"display: table-cell;\"></div><div style=\"display: table-cell;\">min_border_top&nbsp;=&nbsp;None,</div></div><div class=\"2367\" style=\"display: none;\"><div style=\"display: table-cell;\"></div><div style=\"display: table-cell;\">min_height&nbsp;=&nbsp;None,</div></div><div class=\"2367\" style=\"display: none;\"><div style=\"display: table-cell;\"></div><div style=\"display: table-cell;\">min_width&nbsp;=&nbsp;None,</div></div><div class=\"2367\" style=\"display: none;\"><div style=\"display: table-cell;\"></div><div style=\"display: table-cell;\">name&nbsp;=&nbsp;None,</div></div><div class=\"2367\" style=\"display: none;\"><div style=\"display: table-cell;\"></div><div style=\"display: table-cell;\">outer_height&nbsp;=&nbsp;0,</div></div><div class=\"2367\" style=\"display: none;\"><div style=\"display: table-cell;\"></div><div style=\"display: table-cell;\">outer_width&nbsp;=&nbsp;0,</div></div><div class=\"2367\" style=\"display: none;\"><div style=\"display: table-cell;\"></div><div style=\"display: table-cell;\">outline_line_alpha&nbsp;=&nbsp;1.0,</div></div><div class=\"2367\" style=\"display: none;\"><div style=\"display: table-cell;\"></div><div style=\"display: table-cell;\">outline_line_cap&nbsp;=&nbsp;'butt',</div></div><div class=\"2367\" style=\"display: none;\"><div style=\"display: table-cell;\"></div><div style=\"display: table-cell;\">outline_line_color&nbsp;=&nbsp;'#e5e5e5',</div></div><div class=\"2367\" style=\"display: none;\"><div style=\"display: table-cell;\"></div><div style=\"display: table-cell;\">outline_line_dash&nbsp;=&nbsp;[],</div></div><div class=\"2367\" style=\"display: none;\"><div style=\"display: table-cell;\"></div><div style=\"display: table-cell;\">outline_line_dash_offset&nbsp;=&nbsp;0,</div></div><div class=\"2367\" style=\"display: none;\"><div style=\"display: table-cell;\"></div><div style=\"display: table-cell;\">outline_line_join&nbsp;=&nbsp;'bevel',</div></div><div class=\"2367\" style=\"display: none;\"><div style=\"display: table-cell;\"></div><div style=\"display: table-cell;\">outline_line_width&nbsp;=&nbsp;1,</div></div><div class=\"2367\" style=\"display: none;\"><div style=\"display: table-cell;\"></div><div style=\"display: table-cell;\">output_backend&nbsp;=&nbsp;'webgl',</div></div><div class=\"2367\" style=\"display: none;\"><div style=\"display: table-cell;\"></div><div style=\"display: table-cell;\">renderers&nbsp;=&nbsp;[GlyphRenderer(id='2067', ...), GlyphRenderer(id='2100', ...), GlyphRenderer(id='2134', ...), GlyphRenderer(id='2170', ...)],</div></div><div class=\"2367\" style=\"display: none;\"><div style=\"display: table-cell;\"></div><div style=\"display: table-cell;\">reset_policy&nbsp;=&nbsp;'standard',</div></div><div class=\"2367\" style=\"display: none;\"><div style=\"display: table-cell;\"></div><div style=\"display: table-cell;\">right&nbsp;=&nbsp;[],</div></div><div class=\"2367\" style=\"display: none;\"><div style=\"display: table-cell;\"></div><div style=\"display: table-cell;\">sizing_mode&nbsp;=&nbsp;'fixed',</div></div><div class=\"2367\" style=\"display: none;\"><div style=\"display: table-cell;\"></div><div style=\"display: table-cell;\">subscribed_events&nbsp;=&nbsp;[],</div></div><div class=\"2367\" style=\"display: none;\"><div style=\"display: table-cell;\"></div><div style=\"display: table-cell;\">syncable&nbsp;=&nbsp;True,</div></div><div class=\"2367\" style=\"display: none;\"><div style=\"display: table-cell;\"></div><div style=\"display: table-cell;\">tags&nbsp;=&nbsp;[],</div></div><div class=\"2367\" style=\"display: none;\"><div style=\"display: table-cell;\"></div><div style=\"display: table-cell;\">title&nbsp;=&nbsp;Title(id='2030', ...),</div></div><div class=\"2367\" style=\"display: none;\"><div style=\"display: table-cell;\"></div><div style=\"display: table-cell;\">title_location&nbsp;=&nbsp;'above',</div></div><div class=\"2367\" style=\"display: none;\"><div style=\"display: table-cell;\"></div><div style=\"display: table-cell;\">toolbar&nbsp;=&nbsp;Toolbar(id='2055', ...),</div></div><div class=\"2367\" style=\"display: none;\"><div style=\"display: table-cell;\"></div><div style=\"display: table-cell;\">toolbar_location&nbsp;=&nbsp;'right',</div></div><div class=\"2367\" style=\"display: none;\"><div style=\"display: table-cell;\"></div><div style=\"display: table-cell;\">toolbar_sticky&nbsp;=&nbsp;True,</div></div><div class=\"2367\" style=\"display: none;\"><div style=\"display: table-cell;\"></div><div style=\"display: table-cell;\">visible&nbsp;=&nbsp;True,</div></div><div class=\"2367\" style=\"display: none;\"><div style=\"display: table-cell;\"></div><div style=\"display: table-cell;\">width&nbsp;=&nbsp;600,</div></div><div class=\"2367\" style=\"display: none;\"><div style=\"display: table-cell;\"></div><div style=\"display: table-cell;\">width_policy&nbsp;=&nbsp;'auto',</div></div><div class=\"2367\" style=\"display: none;\"><div style=\"display: table-cell;\"></div><div style=\"display: table-cell;\">x_range&nbsp;=&nbsp;DataRange1d(id='2032', ...),</div></div><div class=\"2367\" style=\"display: none;\"><div style=\"display: table-cell;\"></div><div style=\"display: table-cell;\">x_scale&nbsp;=&nbsp;LinearScale(id='2036', ...),</div></div><div class=\"2367\" style=\"display: none;\"><div style=\"display: table-cell;\"></div><div style=\"display: table-cell;\">y_range&nbsp;=&nbsp;DataRange1d(id='2034', ...),</div></div><div class=\"2367\" style=\"display: none;\"><div style=\"display: table-cell;\"></div><div style=\"display: table-cell;\">y_scale&nbsp;=&nbsp;LinearScale(id='2038', ...))</div></div></div>\n",
       "<script>\n",
       "(function() {\n",
       "  let expanded = false;\n",
       "  const ellipsis = document.getElementById(\"2368\");\n",
       "  ellipsis.addEventListener(\"click\", function() {\n",
       "    const rows = document.getElementsByClassName(\"2367\");\n",
       "    for (let i = 0; i < rows.length; i++) {\n",
       "      const el = rows[i];\n",
       "      el.style.display = expanded ? \"none\" : \"table-row\";\n",
       "    }\n",
       "    ellipsis.innerHTML = expanded ? \"&hellip;)\" : \"&lsaquo;&lsaquo;&lsaquo;\";\n",
       "    expanded = !expanded;\n",
       "  });\n",
       "})();\n",
       "</script>\n"
      ],
      "text/plain": [
       "Figure(id='2029', ...)"
      ]
     },
     "execution_count": 129,
     "metadata": {},
     "output_type": "execute_result"
    }
   ],
   "source": [
    "test.plot_bokeh()"
   ]
  },
  {
   "cell_type": "code",
   "execution_count": null,
   "metadata": {},
   "outputs": [],
   "source": [
    "def sample_strategy(coin_symbol, qty, entried=False):\n",
    "    df = get_historical_data(coin_symbol, '1m', '30')\n",
    "    df=df[0]\n",
    "    cumulative_return = (df.Open.pct_change() +1).cumprod() - 1\n",
    "    if not entried:\n",
    "        #Haven't bought the asset yet\n",
    "        if cumulative_return[-1] < -0.002: #<-0.2%\n",
    "            order = client.create_order(symbol=coin_symbol, side='BUY', type='MARKET', quantity=qty)\n",
    "\n",
    "            print(order)\n",
    "            entried=True\n",
    "        else:\n",
    "            print(\"No trade has been executed as per current strategy\\n\")\n",
    "    if entried:\n",
    "        #order has been placed\n",
    "        while True:\n",
    "            df = get_historical_data(coin_symbol, '1m', '30')\n",
    "            df=df[0]\n",
    "            since_buy = df.loc[df.index > pd.to_datetime(order['transactTime'], unit='ms')]\n",
    "            if len(since_buy) > 0: #handling case when since buy data frame is empty (the very first moment for example)\n",
    "                since_buy_return = (since_buy.Open.pct_change() +1).cumprod() - 1\n",
    "\n",
    "                if since_buy_return[-1] > 0.0025 or since_buy_return[-1]<-0.0015:\n",
    "                    order = client.create_order(symbol=coin_symbol, side='SELL', type='MARKET', quantity=qty)\n",
    "                    print(order)\n",
    "                    break\n",
    "#Golden Cross"
   ]
  },
  {
   "cell_type": "code",
   "execution_count": 16,
   "metadata": {},
   "outputs": [
    {
     "ename": "NameError",
     "evalue": "name 'sample_strategy' is not defined",
     "output_type": "error",
     "traceback": [
      "\u001b[0;31m---------------------------------------------------------------------------\u001b[0m",
      "\u001b[0;31mNameError\u001b[0m                                 Traceback (most recent call last)",
      "\u001b[0;32m<ipython-input-16-bfdfaa675109>\u001b[0m in \u001b[0;36m<module>\u001b[0;34m\u001b[0m\n\u001b[0;32m----> 1\u001b[0;31m \u001b[0msample_strategy\u001b[0m\u001b[0;34m(\u001b[0m\u001b[0;34m\"SHIBUSDT\"\u001b[0m\u001b[0;34m,\u001b[0m \u001b[0;36m0.00001\u001b[0m\u001b[0;34m,\u001b[0m \u001b[0;32mFalse\u001b[0m\u001b[0;34m)\u001b[0m\u001b[0;34m\u001b[0m\u001b[0;34m\u001b[0m\u001b[0m\n\u001b[0m",
      "\u001b[0;31mNameError\u001b[0m: name 'sample_strategy' is not defined"
     ]
    }
   ],
   "source": [
    "sample_strategy(\"SHIBUSDT\", 0.00001, False)"
   ]
  },
  {
   "cell_type": "code",
   "execution_count": null,
   "metadata": {},
   "outputs": [],
   "source": []
  },
  {
   "cell_type": "code",
   "execution_count": null,
   "metadata": {},
   "outputs": [],
   "source": []
  }
 ],
 "metadata": {
  "interpreter": {
   "hash": "aee8b7b246df8f9039afb4144a1f6fd8d2ca17a180786b69acc140d282b71a49"
  },
  "kernelspec": {
   "display_name": "Python 3.9.7 64-bit",
   "name": "python3"
  },
  "language_info": {
   "codemirror_mode": {
    "name": "ipython",
    "version": 3
   },
   "file_extension": ".py",
   "mimetype": "text/x-python",
   "name": "python",
   "nbconvert_exporter": "python",
   "pygments_lexer": "ipython3",
   "version": "3.9.7"
  },
  "orig_nbformat": 4
 },
 "nbformat": 4,
 "nbformat_minor": 2
}
